{
 "cells": [
  {
   "cell_type": "code",
   "execution_count": 10,
   "id": "4a1f728f",
   "metadata": {},
   "outputs": [],
   "source": [
    "import pandas as pd\n",
    "import numpy as np\n",
    "import nltk\n",
    "import re"
   ]
  },
  {
   "cell_type": "code",
   "execution_count": 11,
   "id": "35cbfe45",
   "metadata": {},
   "outputs": [],
   "source": [
    "from nltk.corpus import stopwords"
   ]
  },
  {
   "cell_type": "code",
   "execution_count": 295,
   "id": "b28db71c",
   "metadata": {},
   "outputs": [],
   "source": [
    "dojs=pd.read_csv('jalshakti.txt',header=None,on_bad_lines='skip')\n",
    "dojs.to_csv('ham1.csv',header=None)"
   ]
  },
  {
   "cell_type": "code",
   "execution_count": 296,
   "id": "5da5f830",
   "metadata": {},
   "outputs": [],
   "source": [
    "dojs.rename(columns={0:'message'},inplace=True)"
   ]
  },
  {
   "cell_type": "code",
   "execution_count": 297,
   "id": "8bb082d5",
   "metadata": {},
   "outputs": [],
   "source": [
    "dojs['target']=1"
   ]
  },
  {
   "cell_type": "code",
   "execution_count": 298,
   "id": "0486fd4e",
   "metadata": {},
   "outputs": [
    {
     "data": {
      "text/html": [
       "<div>\n",
       "<style scoped>\n",
       "    .dataframe tbody tr th:only-of-type {\n",
       "        vertical-align: middle;\n",
       "    }\n",
       "\n",
       "    .dataframe tbody tr th {\n",
       "        vertical-align: top;\n",
       "    }\n",
       "\n",
       "    .dataframe thead th {\n",
       "        text-align: right;\n",
       "    }\n",
       "</style>\n",
       "<table border=\"1\" class=\"dataframe\">\n",
       "  <thead>\n",
       "    <tr style=\"text-align: right;\">\n",
       "      <th></th>\n",
       "      <th>message</th>\n",
       "      <th>target</th>\n",
       "    </tr>\n",
       "  </thead>\n",
       "  <tbody>\n",
       "    <tr>\n",
       "      <th>0</th>\n",
       "      <td>I'm writing to raise a serious concern about t...</td>\n",
       "      <td>1</td>\n",
       "    </tr>\n",
       "    <tr>\n",
       "      <th>1</th>\n",
       "      <td>Hello, there's an ongoing issue with the water...</td>\n",
       "      <td>1</td>\n",
       "    </tr>\n",
       "    <tr>\n",
       "      <th>2</th>\n",
       "      <td>Greetings, I'd like to report a problem with t...</td>\n",
       "      <td>1</td>\n",
       "    </tr>\n",
       "    <tr>\n",
       "      <th>3</th>\n",
       "      <td>Hi, we've been facing a persistent problem wit...</td>\n",
       "      <td>1</td>\n",
       "    </tr>\n",
       "    <tr>\n",
       "      <th>4</th>\n",
       "      <td>I'm concerned about the water quality in our h...</td>\n",
       "      <td>1</td>\n",
       "    </tr>\n",
       "    <tr>\n",
       "      <th>...</th>\n",
       "      <td>...</td>\n",
       "      <td>...</td>\n",
       "    </tr>\n",
       "    <tr>\n",
       "      <th>1048</th>\n",
       "      <td>I raise this grievance to draw attention to th...</td>\n",
       "      <td>1</td>\n",
       "    </tr>\n",
       "    <tr>\n",
       "      <th>1049</th>\n",
       "      <td>Our inability to capture and utilize rainwater...</td>\n",
       "      <td>1</td>\n",
       "    </tr>\n",
       "    <tr>\n",
       "      <th>1050</th>\n",
       "      <td>The failure to harness rainwater efficiently h...</td>\n",
       "      <td>1</td>\n",
       "    </tr>\n",
       "    <tr>\n",
       "      <th>1051</th>\n",
       "      <td>The loss of rainwater during monsoons is a mat...</td>\n",
       "      <td>1</td>\n",
       "    </tr>\n",
       "    <tr>\n",
       "      <th>1052</th>\n",
       "      <td>I lodge this grievance to express our collecti...</td>\n",
       "      <td>1</td>\n",
       "    </tr>\n",
       "  </tbody>\n",
       "</table>\n",
       "<p>1053 rows × 2 columns</p>\n",
       "</div>"
      ],
      "text/plain": [
       "                                                message  target\n",
       "0     I'm writing to raise a serious concern about t...       1\n",
       "1     Hello, there's an ongoing issue with the water...       1\n",
       "2     Greetings, I'd like to report a problem with t...       1\n",
       "3     Hi, we've been facing a persistent problem wit...       1\n",
       "4     I'm concerned about the water quality in our h...       1\n",
       "...                                                 ...     ...\n",
       "1048  I raise this grievance to draw attention to th...       1\n",
       "1049  Our inability to capture and utilize rainwater...       1\n",
       "1050  The failure to harness rainwater efficiently h...       1\n",
       "1051  The loss of rainwater during monsoons is a mat...       1\n",
       "1052  I lodge this grievance to express our collecti...       1\n",
       "\n",
       "[1053 rows x 2 columns]"
      ]
     },
     "execution_count": 298,
     "metadata": {},
     "output_type": "execute_result"
    }
   ],
   "source": [
    "dojs"
   ]
  },
  {
   "cell_type": "code",
   "execution_count": 299,
   "id": "01b862ac",
   "metadata": {},
   "outputs": [
    {
     "name": "stderr",
     "output_type": "stream",
     "text": [
      "/var/folders/g7/627wzbxx3td29rg7f3r4zdrc0000gn/T/ipykernel_93359/1016892925.py:1: ParserWarning: Falling back to the 'python' engine because the 'c' engine does not support regex separators (separators > 1 char and different from '\\s+' are interpreted as regex); you can avoid this warning by specifying engine='python'.\n",
      "  dort=pd.read_csv('RoadTransport.txt',sep='/t',header=None)\n"
     ]
    }
   ],
   "source": [
    "dort=pd.read_csv('RoadTransport.txt',sep='/t',header=None)"
   ]
  },
  {
   "cell_type": "code",
   "execution_count": 300,
   "id": "58f56abb",
   "metadata": {},
   "outputs": [],
   "source": [
    "dort.rename(columns={0:'message'},inplace=True)"
   ]
  },
  {
   "cell_type": "code",
   "execution_count": 301,
   "id": "644e6088",
   "metadata": {},
   "outputs": [],
   "source": [
    "dort['target']=0"
   ]
  },
  {
   "cell_type": "code",
   "execution_count": 311,
   "id": "4869b616",
   "metadata": {},
   "outputs": [
    {
     "data": {
      "text/html": [
       "<div>\n",
       "<style scoped>\n",
       "    .dataframe tbody tr th:only-of-type {\n",
       "        vertical-align: middle;\n",
       "    }\n",
       "\n",
       "    .dataframe tbody tr th {\n",
       "        vertical-align: top;\n",
       "    }\n",
       "\n",
       "    .dataframe thead th {\n",
       "        text-align: right;\n",
       "    }\n",
       "</style>\n",
       "<table border=\"1\" class=\"dataframe\">\n",
       "  <thead>\n",
       "    <tr style=\"text-align: right;\">\n",
       "      <th></th>\n",
       "      <th>message</th>\n",
       "      <th>target</th>\n",
       "    </tr>\n",
       "  </thead>\n",
       "  <tbody>\n",
       "    <tr>\n",
       "      <th>0</th>\n",
       "      <td>I want to bring to your attention the deterior...</td>\n",
       "      <td>0</td>\n",
       "    </tr>\n",
       "    <tr>\n",
       "      <th>1</th>\n",
       "      <td>\" the potholes on our road are causing signifi...</td>\n",
       "      <td>0</td>\n",
       "    </tr>\n",
       "    <tr>\n",
       "      <th>2</th>\n",
       "      <td>\"Respected Authorities, I've noticed that the ...</td>\n",
       "      <td>0</td>\n",
       "    </tr>\n",
       "    <tr>\n",
       "      <th>3</th>\n",
       "      <td>\"To Whom It May Concern, The potholes near my ...</td>\n",
       "      <td>0</td>\n",
       "    </tr>\n",
       "    <tr>\n",
       "      <th>4</th>\n",
       "      <td>\"I am writing to report the dangerous potholes...</td>\n",
       "      <td>0</td>\n",
       "    </tr>\n",
       "    <tr>\n",
       "      <th>...</th>\n",
       "      <td>...</td>\n",
       "      <td>...</td>\n",
       "    </tr>\n",
       "    <tr>\n",
       "      <th>956</th>\n",
       "      <td>Residents have expressed growing frustration o...</td>\n",
       "      <td>0</td>\n",
       "    </tr>\n",
       "    <tr>\n",
       "      <th>957</th>\n",
       "      <td>The roads in our region have fallen into a sta...</td>\n",
       "      <td>0</td>\n",
       "    </tr>\n",
       "    <tr>\n",
       "      <th>958</th>\n",
       "      <td>The road conditions are an issue of paramount ...</td>\n",
       "      <td>0</td>\n",
       "    </tr>\n",
       "    <tr>\n",
       "      <th>959</th>\n",
       "      <td>I would appreciate your prompt attention to th...</td>\n",
       "      <td>0</td>\n",
       "    </tr>\n",
       "    <tr>\n",
       "      <th>960</th>\n",
       "      <td>Your assistance in resolving the poor road con...</td>\n",
       "      <td>0</td>\n",
       "    </tr>\n",
       "  </tbody>\n",
       "</table>\n",
       "<p>961 rows × 2 columns</p>\n",
       "</div>"
      ],
      "text/plain": [
       "                                               message  target\n",
       "0    I want to bring to your attention the deterior...       0\n",
       "1    \" the potholes on our road are causing signifi...       0\n",
       "2    \"Respected Authorities, I've noticed that the ...       0\n",
       "3    \"To Whom It May Concern, The potholes near my ...       0\n",
       "4    \"I am writing to report the dangerous potholes...       0\n",
       "..                                                 ...     ...\n",
       "956  Residents have expressed growing frustration o...       0\n",
       "957  The roads in our region have fallen into a sta...       0\n",
       "958  The road conditions are an issue of paramount ...       0\n",
       "959  I would appreciate your prompt attention to th...       0\n",
       "960  Your assistance in resolving the poor road con...       0\n",
       "\n",
       "[961 rows x 2 columns]"
      ]
     },
     "execution_count": 311,
     "metadata": {},
     "output_type": "execute_result"
    }
   ],
   "source": [
    "dort"
   ]
  },
  {
   "cell_type": "code",
   "execution_count": 312,
   "id": "c55f9c03",
   "metadata": {},
   "outputs": [],
   "source": [
    "list=[dojs,dort]"
   ]
  },
  {
   "cell_type": "code",
   "execution_count": 313,
   "id": "b224e508",
   "metadata": {},
   "outputs": [],
   "source": [
    "data=pd.concat(list)"
   ]
  },
  {
   "cell_type": "code",
   "execution_count": 314,
   "id": "4e46b0b4",
   "metadata": {
    "scrolled": true
   },
   "outputs": [
    {
     "data": {
      "text/html": [
       "<div>\n",
       "<style scoped>\n",
       "    .dataframe tbody tr th:only-of-type {\n",
       "        vertical-align: middle;\n",
       "    }\n",
       "\n",
       "    .dataframe tbody tr th {\n",
       "        vertical-align: top;\n",
       "    }\n",
       "\n",
       "    .dataframe thead th {\n",
       "        text-align: right;\n",
       "    }\n",
       "</style>\n",
       "<table border=\"1\" class=\"dataframe\">\n",
       "  <thead>\n",
       "    <tr style=\"text-align: right;\">\n",
       "      <th></th>\n",
       "      <th>message</th>\n",
       "      <th>target</th>\n",
       "    </tr>\n",
       "  </thead>\n",
       "  <tbody>\n",
       "    <tr>\n",
       "      <th>0</th>\n",
       "      <td>I'm writing to raise a serious concern about t...</td>\n",
       "      <td>1</td>\n",
       "    </tr>\n",
       "    <tr>\n",
       "      <th>1</th>\n",
       "      <td>Hello, there's an ongoing issue with the water...</td>\n",
       "      <td>1</td>\n",
       "    </tr>\n",
       "    <tr>\n",
       "      <th>2</th>\n",
       "      <td>Greetings, I'd like to report a problem with t...</td>\n",
       "      <td>1</td>\n",
       "    </tr>\n",
       "    <tr>\n",
       "      <th>3</th>\n",
       "      <td>Hi, we've been facing a persistent problem wit...</td>\n",
       "      <td>1</td>\n",
       "    </tr>\n",
       "    <tr>\n",
       "      <th>4</th>\n",
       "      <td>I'm concerned about the water quality in our h...</td>\n",
       "      <td>1</td>\n",
       "    </tr>\n",
       "    <tr>\n",
       "      <th>...</th>\n",
       "      <td>...</td>\n",
       "      <td>...</td>\n",
       "    </tr>\n",
       "    <tr>\n",
       "      <th>956</th>\n",
       "      <td>Residents have expressed growing frustration o...</td>\n",
       "      <td>0</td>\n",
       "    </tr>\n",
       "    <tr>\n",
       "      <th>957</th>\n",
       "      <td>The roads in our region have fallen into a sta...</td>\n",
       "      <td>0</td>\n",
       "    </tr>\n",
       "    <tr>\n",
       "      <th>958</th>\n",
       "      <td>The road conditions are an issue of paramount ...</td>\n",
       "      <td>0</td>\n",
       "    </tr>\n",
       "    <tr>\n",
       "      <th>959</th>\n",
       "      <td>I would appreciate your prompt attention to th...</td>\n",
       "      <td>0</td>\n",
       "    </tr>\n",
       "    <tr>\n",
       "      <th>960</th>\n",
       "      <td>Your assistance in resolving the poor road con...</td>\n",
       "      <td>0</td>\n",
       "    </tr>\n",
       "  </tbody>\n",
       "</table>\n",
       "<p>2014 rows × 2 columns</p>\n",
       "</div>"
      ],
      "text/plain": [
       "                                               message  target\n",
       "0    I'm writing to raise a serious concern about t...       1\n",
       "1    Hello, there's an ongoing issue with the water...       1\n",
       "2    Greetings, I'd like to report a problem with t...       1\n",
       "3    Hi, we've been facing a persistent problem wit...       1\n",
       "4    I'm concerned about the water quality in our h...       1\n",
       "..                                                 ...     ...\n",
       "956  Residents have expressed growing frustration o...       0\n",
       "957  The roads in our region have fallen into a sta...       0\n",
       "958  The road conditions are an issue of paramount ...       0\n",
       "959  I would appreciate your prompt attention to th...       0\n",
       "960  Your assistance in resolving the poor road con...       0\n",
       "\n",
       "[2014 rows x 2 columns]"
      ]
     },
     "execution_count": 314,
     "metadata": {},
     "output_type": "execute_result"
    }
   ],
   "source": [
    "data"
   ]
  },
  {
   "cell_type": "code",
   "execution_count": 315,
   "id": "9b15eba1",
   "metadata": {
    "scrolled": true
   },
   "outputs": [],
   "source": [
    "data=data.sample(frac=1,random_state=42)"
   ]
  },
  {
   "cell_type": "code",
   "execution_count": 316,
   "id": "46402f38",
   "metadata": {},
   "outputs": [
    {
     "data": {
      "text/html": [
       "<div>\n",
       "<style scoped>\n",
       "    .dataframe tbody tr th:only-of-type {\n",
       "        vertical-align: middle;\n",
       "    }\n",
       "\n",
       "    .dataframe tbody tr th {\n",
       "        vertical-align: top;\n",
       "    }\n",
       "\n",
       "    .dataframe thead th {\n",
       "        text-align: right;\n",
       "    }\n",
       "</style>\n",
       "<table border=\"1\" class=\"dataframe\">\n",
       "  <thead>\n",
       "    <tr style=\"text-align: right;\">\n",
       "      <th></th>\n",
       "      <th>message</th>\n",
       "      <th>target</th>\n",
       "    </tr>\n",
       "  </thead>\n",
       "  <tbody>\n",
       "    <tr>\n",
       "      <th>145</th>\n",
       "      <td>We're lookin' for answers 'bout why these toll...</td>\n",
       "      <td>0</td>\n",
       "    </tr>\n",
       "    <tr>\n",
       "      <th>526</th>\n",
       "      <td>Our connection to the river near our residenti...</td>\n",
       "      <td>1</td>\n",
       "    </tr>\n",
       "    <tr>\n",
       "      <th>393</th>\n",
       "      <td>We're concerned about the water supply volume,...</td>\n",
       "      <td>1</td>\n",
       "    </tr>\n",
       "    <tr>\n",
       "      <th>354</th>\n",
       "      <td>The deplorable condition of our local roads, m...</td>\n",
       "      <td>0</td>\n",
       "    </tr>\n",
       "    <tr>\n",
       "      <th>433</th>\n",
       "      <td>Hello, I'm concerned about the water supply is...</td>\n",
       "      <td>1</td>\n",
       "    </tr>\n",
       "    <tr>\n",
       "      <th>...</th>\n",
       "      <td>...</td>\n",
       "      <td>...</td>\n",
       "    </tr>\n",
       "    <tr>\n",
       "      <th>77</th>\n",
       "      <td>Your attention to this matter is greatly appre...</td>\n",
       "      <td>0</td>\n",
       "    </tr>\n",
       "    <tr>\n",
       "      <th>241</th>\n",
       "      <td>It's not just about venting; it's about findin...</td>\n",
       "      <td>0</td>\n",
       "    </tr>\n",
       "    <tr>\n",
       "      <th>860</th>\n",
       "      <td>We urgently implore the authorities to expedit...</td>\n",
       "      <td>1</td>\n",
       "    </tr>\n",
       "    <tr>\n",
       "      <th>406</th>\n",
       "      <td>I find myself stuck in a dilemma where my dail...</td>\n",
       "      <td>0</td>\n",
       "    </tr>\n",
       "    <tr>\n",
       "      <th>73</th>\n",
       "      <td>Can you please provide a clear and transparent...</td>\n",
       "      <td>0</td>\n",
       "    </tr>\n",
       "  </tbody>\n",
       "</table>\n",
       "<p>2014 rows × 2 columns</p>\n",
       "</div>"
      ],
      "text/plain": [
       "                                               message  target\n",
       "145  We're lookin' for answers 'bout why these toll...       0\n",
       "526  Our connection to the river near our residenti...       1\n",
       "393  We're concerned about the water supply volume,...       1\n",
       "354  The deplorable condition of our local roads, m...       0\n",
       "433  Hello, I'm concerned about the water supply is...       1\n",
       "..                                                 ...     ...\n",
       "77   Your attention to this matter is greatly appre...       0\n",
       "241  It's not just about venting; it's about findin...       0\n",
       "860  We urgently implore the authorities to expedit...       1\n",
       "406  I find myself stuck in a dilemma where my dail...       0\n",
       "73   Can you please provide a clear and transparent...       0\n",
       "\n",
       "[2014 rows x 2 columns]"
      ]
     },
     "execution_count": 316,
     "metadata": {},
     "output_type": "execute_result"
    }
   ],
   "source": [
    "data"
   ]
  },
  {
   "cell_type": "code",
   "execution_count": 310,
   "id": "29a42128",
   "metadata": {},
   "outputs": [],
   "source": [
    "data.to_csv(\"Data.csv\")"
   ]
  },
  {
   "cell_type": "code",
   "execution_count": 317,
   "id": "18854f7b",
   "metadata": {},
   "outputs": [],
   "source": [
    "data = data.reset_index(drop=True)\n",
    "REPLACE_BY_SPACE_RE = re.compile('[/(){}\\|@,;]')\n",
    "BAD_SYMBOLS_RE = re.compile('[^0-9a-z #+_]')\n",
    "STOPWORDS = set(stopwords.words('english'))\n",
    "\n",
    "def clean_text(text):\n",
    "    \n",
    "    text = text.lower() # lowercase text\n",
    "    text = REPLACE_BY_SPACE_RE.sub(' ', text) # replace REPLACE_BY_SPACE_RE symbols by space in text. substitute the matched string in REPLACE_BY_SPACE_RE with space.\n",
    "    text = BAD_SYMBOLS_RE.sub('', text) # remove symbols which are in BAD_SYMBOLS_RE from text. substitute the matched string in BAD_SYMBOLS_RE with nothing. \n",
    "    text = text.replace('x', '')\n",
    "    #text = ' '.join(word for word in text.split() if word not in STOPWORDS) # remove stopwors from text\n",
    "    return text\n",
    "\n",
    "     "
   ]
  },
  {
   "cell_type": "code",
   "execution_count": 318,
   "id": "9f9e015e",
   "metadata": {
    "scrolled": true
   },
   "outputs": [
    {
     "data": {
      "text/html": [
       "<div>\n",
       "<style scoped>\n",
       "    .dataframe tbody tr th:only-of-type {\n",
       "        vertical-align: middle;\n",
       "    }\n",
       "\n",
       "    .dataframe tbody tr th {\n",
       "        vertical-align: top;\n",
       "    }\n",
       "\n",
       "    .dataframe thead th {\n",
       "        text-align: right;\n",
       "    }\n",
       "</style>\n",
       "<table border=\"1\" class=\"dataframe\">\n",
       "  <thead>\n",
       "    <tr style=\"text-align: right;\">\n",
       "      <th></th>\n",
       "      <th>message</th>\n",
       "      <th>target</th>\n",
       "    </tr>\n",
       "  </thead>\n",
       "  <tbody>\n",
       "    <tr>\n",
       "      <th>0</th>\n",
       "      <td>We're lookin' for answers 'bout why these toll...</td>\n",
       "      <td>0</td>\n",
       "    </tr>\n",
       "    <tr>\n",
       "      <th>1</th>\n",
       "      <td>Our connection to the river near our residenti...</td>\n",
       "      <td>1</td>\n",
       "    </tr>\n",
       "    <tr>\n",
       "      <th>2</th>\n",
       "      <td>We're concerned about the water supply volume,...</td>\n",
       "      <td>1</td>\n",
       "    </tr>\n",
       "    <tr>\n",
       "      <th>3</th>\n",
       "      <td>The deplorable condition of our local roads, m...</td>\n",
       "      <td>0</td>\n",
       "    </tr>\n",
       "    <tr>\n",
       "      <th>4</th>\n",
       "      <td>Hello, I'm concerned about the water supply is...</td>\n",
       "      <td>1</td>\n",
       "    </tr>\n",
       "    <tr>\n",
       "      <th>...</th>\n",
       "      <td>...</td>\n",
       "      <td>...</td>\n",
       "    </tr>\n",
       "    <tr>\n",
       "      <th>2009</th>\n",
       "      <td>Your attention to this matter is greatly appre...</td>\n",
       "      <td>0</td>\n",
       "    </tr>\n",
       "    <tr>\n",
       "      <th>2010</th>\n",
       "      <td>It's not just about venting; it's about findin...</td>\n",
       "      <td>0</td>\n",
       "    </tr>\n",
       "    <tr>\n",
       "      <th>2011</th>\n",
       "      <td>We urgently implore the authorities to expedit...</td>\n",
       "      <td>1</td>\n",
       "    </tr>\n",
       "    <tr>\n",
       "      <th>2012</th>\n",
       "      <td>I find myself stuck in a dilemma where my dail...</td>\n",
       "      <td>0</td>\n",
       "    </tr>\n",
       "    <tr>\n",
       "      <th>2013</th>\n",
       "      <td>Can you please provide a clear and transparent...</td>\n",
       "      <td>0</td>\n",
       "    </tr>\n",
       "  </tbody>\n",
       "</table>\n",
       "<p>2014 rows × 2 columns</p>\n",
       "</div>"
      ],
      "text/plain": [
       "                                                message  target\n",
       "0     We're lookin' for answers 'bout why these toll...       0\n",
       "1     Our connection to the river near our residenti...       1\n",
       "2     We're concerned about the water supply volume,...       1\n",
       "3     The deplorable condition of our local roads, m...       0\n",
       "4     Hello, I'm concerned about the water supply is...       1\n",
       "...                                                 ...     ...\n",
       "2009  Your attention to this matter is greatly appre...       0\n",
       "2010  It's not just about venting; it's about findin...       0\n",
       "2011  We urgently implore the authorities to expedit...       1\n",
       "2012  I find myself stuck in a dilemma where my dail...       0\n",
       "2013  Can you please provide a clear and transparent...       0\n",
       "\n",
       "[2014 rows x 2 columns]"
      ]
     },
     "execution_count": 318,
     "metadata": {},
     "output_type": "execute_result"
    }
   ],
   "source": [
    "data"
   ]
  },
  {
   "cell_type": "code",
   "execution_count": 319,
   "id": "8ef49f17",
   "metadata": {},
   "outputs": [],
   "source": [
    "data['message']=data['message'].apply(clean_text)"
   ]
  },
  {
   "cell_type": "code",
   "execution_count": 320,
   "id": "973645be",
   "metadata": {
    "scrolled": true
   },
   "outputs": [
    {
     "data": {
      "text/plain": [
       "'our connection to the river near our residential area has always been strong  but its currently eperiencing issues like pollution  stagnation  and concerns about our health and environment'"
      ]
     },
     "execution_count": 320,
     "metadata": {},
     "output_type": "execute_result"
    }
   ],
   "source": [
    "data['message'][1]"
   ]
  },
  {
   "cell_type": "code",
   "execution_count": 321,
   "id": "26982362",
   "metadata": {},
   "outputs": [],
   "source": [
    "import tensorflow as tf\n",
    "#from tensorflow import keras\n",
    "from tensorflow.keras.preprocessing.text import Tokenizer\n",
    "from tensorflow.keras.preprocessing.sequence import pad_sequences\n",
    "from tensorflow.keras.models import Sequential\n",
    "from tensorflow.keras.layers import Dense, Embedding, LSTM, SpatialDropout1D,Bidirectional\n",
    "from sklearn.model_selection import train_test_split\n",
    "#from np_utils import to_categorical\n",
    "from tensorflow.keras.callbacks import EarlyStopping\n",
    "from tensorflow.keras.layers import Dropout\n",
    "from nltk import word_tokenize\n"
   ]
  },
  {
   "cell_type": "code",
   "execution_count": 322,
   "id": "084675f3",
   "metadata": {},
   "outputs": [],
   "source": [
    "from keras.metrics import BinaryAccuracy"
   ]
  },
  {
   "cell_type": "code",
   "execution_count": 350,
   "id": "5a80d3a8",
   "metadata": {},
   "outputs": [
    {
     "name": "stdout",
     "output_type": "stream",
     "text": [
      "Found 2576 unique tokens.\n"
     ]
    }
   ],
   "source": [
    "\n",
    "# The maximum number of words to be used. (most frequent)\n",
    "MAX_NB_WORDS = 2500\n",
    "# Max number of words in each complaint.\n",
    "MAX_SEQUENCE_LENGTH = 15\n",
    "# This is fixed.\n",
    "EMBEDDING_DIM = 5\n",
    "\n",
    "tokenizer = Tokenizer(num_words=MAX_NB_WORDS, filters='!\"#$%&()*+,-./:;<=>?@[\\]^_`{|}~', lower=True)\n",
    "tokenizer.fit_on_texts(data['message'].values)\n",
    "word_index = tokenizer.word_index\n",
    "print('Found %s unique tokens.' % len(word_index))\n"
   ]
  },
  {
   "cell_type": "code",
   "execution_count": 351,
   "id": "44bd009f",
   "metadata": {},
   "outputs": [
    {
     "data": {
      "text/plain": [
       "'were lookin for answers bout why these toll hikes had to happen these new rates  they just dont seem fair at all to folks like us who work hard every day and dont have much etra to spare'"
      ]
     },
     "execution_count": 351,
     "metadata": {},
     "output_type": "execute_result"
    }
   ],
   "source": [
    "data['message'][0]"
   ]
  },
  {
   "cell_type": "code",
   "execution_count": 352,
   "id": "844bdf0d",
   "metadata": {},
   "outputs": [
    {
     "name": "stdout",
     "output_type": "stream",
     "text": [
      "Shape of data tensor: (2014, 15)\n"
     ]
    }
   ],
   "source": [
    "\n",
    "X = tokenizer.texts_to_sequences(data['message'].values)\n",
    "X = pad_sequences(X, maxlen=MAX_SEQUENCE_LENGTH)\n",
    "print('Shape of data tensor:', X.shape)"
   ]
  },
  {
   "cell_type": "code",
   "execution_count": 326,
   "id": "575421e1",
   "metadata": {},
   "outputs": [
    {
     "data": {
      "text/plain": [
       "array([  2,  38, 472, 186, 276, 347, 138, 104,   2,  63,  99, 139, 191,\n",
       "       375, 496,   3, 347,  39, 473,   2], dtype=int32)"
      ]
     },
     "execution_count": 326,
     "metadata": {},
     "output_type": "execute_result"
    }
   ],
   "source": [
    "X[0]"
   ]
  },
  {
   "cell_type": "code",
   "execution_count": 353,
   "id": "b8e8e2b5",
   "metadata": {},
   "outputs": [],
   "source": [
    "Y=data['target']"
   ]
  },
  {
   "cell_type": "code",
   "execution_count": 354,
   "id": "ce9851ad",
   "metadata": {},
   "outputs": [
    {
     "name": "stdout",
     "output_type": "stream",
     "text": [
      "(1812, 15) (1812,)\n",
      "(202, 15) (202,)\n"
     ]
    }
   ],
   "source": [
    "X_train, X_test, Y_train, Y_test = train_test_split(X,Y, test_size = 0.10)\n",
    "print(X_train.shape,Y_train.shape)\n",
    "print(X_test.shape,Y_test.shape)"
   ]
  },
  {
   "cell_type": "code",
   "execution_count": 355,
   "id": "41175816",
   "metadata": {
    "scrolled": true
   },
   "outputs": [
    {
     "name": "stdout",
     "output_type": "stream",
     "text": [
      "Model: \"sequential_35\"\n",
      "_________________________________________________________________\n",
      " Layer (type)                Output Shape              Param #   \n",
      "=================================================================\n",
      " embedding_35 (Embedding)    (None, 15, 5)             12500     \n",
      "                                                                 \n",
      " spatial_dropout1d_26 (Spat  (None, 15, 5)             0         \n",
      " ialDropout1D)                                                   \n",
      "                                                                 \n",
      " lstm_36 (LSTM)              (None, 16)                1408      \n",
      "                                                                 \n",
      " dense_34 (Dense)            (None, 1)                 17        \n",
      "                                                                 \n",
      "=================================================================\n",
      "Total params: 13925 (54.39 KB)\n",
      "Trainable params: 13925 (54.39 KB)\n",
      "Non-trainable params: 0 (0.00 Byte)\n",
      "_________________________________________________________________\n",
      "None\n"
     ]
    }
   ],
   "source": [
    "\n",
    "Model = Sequential()\n",
    "Model.add(Embedding(MAX_NB_WORDS, EMBEDDING_DIM, input_length=X.shape[1]))\n",
    "Model.add(SpatialDropout1D(0.3))\n",
    "Model.add(LSTM(16, dropout=0.1))\n",
    "Model.add(Dense(1, activation='sigmoid'))\n",
    "Model.compile(loss='binary_crossentropy', optimizer='RMSprop', metrics=['accuracy'])\n",
    "print(Model.summary())\n"
   ]
  },
  {
   "cell_type": "code",
   "execution_count": 356,
   "id": "583b8382",
   "metadata": {},
   "outputs": [
    {
     "name": "stdout",
     "output_type": "stream",
     "text": [
      "Epoch 1/5\n",
      "19/19 [==============================] - 1s 4ms/step - loss: 0.6891 - accuracy: 0.5226\n",
      "Epoch 2/5\n",
      "19/19 [==============================] - 0s 3ms/step - loss: 0.6596 - accuracy: 0.5541\n",
      "Epoch 3/5\n",
      "19/19 [==============================] - 0s 3ms/step - loss: 0.5336 - accuracy: 0.7003\n",
      "Epoch 4/5\n",
      "19/19 [==============================] - 0s 3ms/step - loss: 0.3803 - accuracy: 0.9139\n",
      "Epoch 5/5\n",
      "19/19 [==============================] - 0s 3ms/step - loss: 0.2909 - accuracy: 0.9415\n"
     ]
    },
    {
     "data": {
      "text/plain": [
       "<keras.src.callbacks.History at 0x2d480e4d0>"
      ]
     },
     "execution_count": 356,
     "metadata": {},
     "output_type": "execute_result"
    }
   ],
   "source": [
    "Model.fit(X_train,Y_train,epochs=5,batch_size=100)"
   ]
  },
  {
   "cell_type": "code",
   "execution_count": 638,
   "id": "36702924",
   "metadata": {},
   "outputs": [
    {
     "name": "stdout",
     "output_type": "stream",
     "text": [
      "57/57 [==============================] - 0s 1ms/step - loss: 0.2418 - binary_accuracy: 0.9961\n"
     ]
    },
    {
     "data": {
      "text/plain": [
       "[0.24177145957946777, 0.9961368441581726]"
      ]
     },
     "execution_count": 638,
     "metadata": {},
     "output_type": "execute_result"
    }
   ],
   "source": [
    "#Model.evaluate(X_train,Y_train)"
   ]
  },
  {
   "cell_type": "code",
   "execution_count": 357,
   "id": "39532642",
   "metadata": {},
   "outputs": [
    {
     "name": "stdout",
     "output_type": "stream",
     "text": [
      "7/7 [==============================] - 0s 2ms/step - loss: 0.2642 - accuracy: 0.9604\n"
     ]
    },
    {
     "data": {
      "text/plain": [
       "[0.2641524374485016, 0.9603960514068604]"
      ]
     },
     "execution_count": 357,
     "metadata": {},
     "output_type": "execute_result"
    }
   ],
   "source": [
    "Model.evaluate(X_test,Y_test)"
   ]
  },
  {
   "cell_type": "code",
   "execution_count": 333,
   "id": "6986eddd",
   "metadata": {},
   "outputs": [
    {
     "name": "stdout",
     "output_type": "stream",
     "text": [
      "7/7 [==============================] - 0s 3ms/step\n"
     ]
    }
   ],
   "source": [
    "Y_preds=Model.predict(X_test)"
   ]
  },
  {
   "cell_type": "code",
   "execution_count": 334,
   "id": "216d0192",
   "metadata": {
    "scrolled": true
   },
   "outputs": [
    {
     "data": {
      "text/plain": [
       "array([[0.9757262 ],\n",
       "       [0.07782791],\n",
       "       [0.10541568],\n",
       "       [0.9769078 ],\n",
       "       [0.97359174],\n",
       "       [0.09725773],\n",
       "       [0.9624603 ],\n",
       "       [0.97813416],\n",
       "       [0.9757306 ],\n",
       "       [0.97533333],\n",
       "       [0.9304365 ],\n",
       "       [0.08367636],\n",
       "       [0.97409666],\n",
       "       [0.9767086 ],\n",
       "       [0.9363654 ],\n",
       "       [0.08935885],\n",
       "       [0.08033795],\n",
       "       [0.97837126],\n",
       "       [0.89410716],\n",
       "       [0.56620723],\n",
       "       [0.7667329 ],\n",
       "       [0.97146463],\n",
       "       [0.97358096],\n",
       "       [0.977435  ],\n",
       "       [0.0912573 ],\n",
       "       [0.09933089],\n",
       "       [0.47988704],\n",
       "       [0.07759053],\n",
       "       [0.15616128],\n",
       "       [0.08005253],\n",
       "       [0.9607681 ],\n",
       "       [0.97404987],\n",
       "       [0.08309243],\n",
       "       [0.9190914 ],\n",
       "       [0.971324  ],\n",
       "       [0.97742647],\n",
       "       [0.08318725],\n",
       "       [0.90897906],\n",
       "       [0.9564762 ],\n",
       "       [0.07617297],\n",
       "       [0.07420329],\n",
       "       [0.30828643],\n",
       "       [0.0775947 ],\n",
       "       [0.9768816 ],\n",
       "       [0.9749554 ],\n",
       "       [0.9732325 ],\n",
       "       [0.9678292 ],\n",
       "       [0.94109154],\n",
       "       [0.08238438],\n",
       "       [0.9751245 ],\n",
       "       [0.13270602],\n",
       "       [0.978249  ],\n",
       "       [0.97885287],\n",
       "       [0.0845207 ],\n",
       "       [0.9757504 ],\n",
       "       [0.9520005 ],\n",
       "       [0.07694151],\n",
       "       [0.969176  ],\n",
       "       [0.935805  ],\n",
       "       [0.9730186 ],\n",
       "       [0.9687286 ],\n",
       "       [0.97575295],\n",
       "       [0.9289908 ],\n",
       "       [0.9793853 ],\n",
       "       [0.23947221],\n",
       "       [0.12448417],\n",
       "       [0.09478562],\n",
       "       [0.9757783 ],\n",
       "       [0.10625146],\n",
       "       [0.0990846 ],\n",
       "       [0.97059816],\n",
       "       [0.97618   ],\n",
       "       [0.9483984 ],\n",
       "       [0.08306888],\n",
       "       [0.12059215],\n",
       "       [0.07604565],\n",
       "       [0.97442377],\n",
       "       [0.08096128],\n",
       "       [0.9778259 ],\n",
       "       [0.07656485],\n",
       "       [0.07708568],\n",
       "       [0.95284075],\n",
       "       [0.9308563 ],\n",
       "       [0.95704025],\n",
       "       [0.9224876 ],\n",
       "       [0.9769289 ],\n",
       "       [0.08892642],\n",
       "       [0.13369794],\n",
       "       [0.9650905 ],\n",
       "       [0.97570467],\n",
       "       [0.97813296],\n",
       "       [0.15146483],\n",
       "       [0.08387587],\n",
       "       [0.9680156 ],\n",
       "       [0.9748779 ],\n",
       "       [0.08464019],\n",
       "       [0.07930347],\n",
       "       [0.19829859],\n",
       "       [0.0786193 ],\n",
       "       [0.9759937 ],\n",
       "       [0.08114929],\n",
       "       [0.95636785],\n",
       "       [0.10221786],\n",
       "       [0.97336155],\n",
       "       [0.07980674],\n",
       "       [0.07824337],\n",
       "       [0.19996786],\n",
       "       [0.97821367],\n",
       "       [0.9781851 ],\n",
       "       [0.08769434],\n",
       "       [0.36938822],\n",
       "       [0.12411525],\n",
       "       [0.0823607 ],\n",
       "       [0.08155652],\n",
       "       [0.07992499],\n",
       "       [0.07885265],\n",
       "       [0.97250676],\n",
       "       [0.1823317 ],\n",
       "       [0.09419998],\n",
       "       [0.9561844 ],\n",
       "       [0.97547895],\n",
       "       [0.1031998 ],\n",
       "       [0.07565019],\n",
       "       [0.11342324],\n",
       "       [0.2860312 ],\n",
       "       [0.09960018],\n",
       "       [0.07980946],\n",
       "       [0.07703438],\n",
       "       [0.20514674],\n",
       "       [0.08843844],\n",
       "       [0.979306  ],\n",
       "       [0.30069724],\n",
       "       [0.96300507],\n",
       "       [0.08244827],\n",
       "       [0.07830507],\n",
       "       [0.9762902 ],\n",
       "       [0.08912094],\n",
       "       [0.97849506],\n",
       "       [0.07753244],\n",
       "       [0.08366421],\n",
       "       [0.97644365],\n",
       "       [0.07857918],\n",
       "       [0.97350556],\n",
       "       [0.29671097],\n",
       "       [0.97222567],\n",
       "       [0.9772674 ],\n",
       "       [0.15345033],\n",
       "       [0.93994516],\n",
       "       [0.09275605],\n",
       "       [0.97394824],\n",
       "       [0.10292193],\n",
       "       [0.9770675 ],\n",
       "       [0.14536723],\n",
       "       [0.08487717],\n",
       "       [0.9464947 ],\n",
       "       [0.0800324 ],\n",
       "       [0.5790353 ],\n",
       "       [0.91133106],\n",
       "       [0.0785135 ],\n",
       "       [0.07595309],\n",
       "       [0.08303994],\n",
       "       [0.9789916 ],\n",
       "       [0.5931058 ],\n",
       "       [0.9760813 ],\n",
       "       [0.9494885 ],\n",
       "       [0.9735917 ],\n",
       "       [0.08052   ],\n",
       "       [0.08058489],\n",
       "       [0.10960294],\n",
       "       [0.9747078 ],\n",
       "       [0.96742344],\n",
       "       [0.08757839],\n",
       "       [0.19191274],\n",
       "       [0.10058048],\n",
       "       [0.07664125],\n",
       "       [0.38454792],\n",
       "       [0.97442055],\n",
       "       [0.07673758],\n",
       "       [0.11423568],\n",
       "       [0.09986382],\n",
       "       [0.09037968],\n",
       "       [0.9325707 ],\n",
       "       [0.08869155],\n",
       "       [0.07579049],\n",
       "       [0.9706481 ],\n",
       "       [0.08788831],\n",
       "       [0.94699395],\n",
       "       [0.96413314],\n",
       "       [0.07718921],\n",
       "       [0.94923556],\n",
       "       [0.4847218 ],\n",
       "       [0.97160643],\n",
       "       [0.9744634 ],\n",
       "       [0.9495861 ],\n",
       "       [0.9647866 ],\n",
       "       [0.09052674],\n",
       "       [0.08536674],\n",
       "       [0.94560146],\n",
       "       [0.973655  ],\n",
       "       [0.08233479],\n",
       "       [0.0875374 ],\n",
       "       [0.07850096]], dtype=float32)"
      ]
     },
     "execution_count": 334,
     "metadata": {},
     "output_type": "execute_result"
    }
   ],
   "source": [
    "Y_preds"
   ]
  },
  {
   "cell_type": "code",
   "execution_count": 117,
   "id": "21d8fa50",
   "metadata": {},
   "outputs": [],
   "source": [
    "for i in range(len(Y_preds)):\n",
    "    if Y_preds[i]<= 0.5:\n",
    "        Y_preds[i]=0\n",
    "    else:\n",
    "        Y_preds[i]=1"
   ]
  },
  {
   "cell_type": "code",
   "execution_count": 118,
   "id": "04b47769",
   "metadata": {},
   "outputs": [
    {
     "data": {
      "text/plain": [
       "array([[1.],\n",
       "       [1.],\n",
       "       [1.],\n",
       "       [0.],\n",
       "       [1.],\n",
       "       [0.],\n",
       "       [1.],\n",
       "       [1.],\n",
       "       [0.],\n",
       "       [0.],\n",
       "       [1.],\n",
       "       [0.],\n",
       "       [1.],\n",
       "       [1.],\n",
       "       [1.],\n",
       "       [0.],\n",
       "       [0.],\n",
       "       [0.],\n",
       "       [0.],\n",
       "       [1.],\n",
       "       [1.],\n",
       "       [1.],\n",
       "       [0.],\n",
       "       [0.],\n",
       "       [0.],\n",
       "       [0.],\n",
       "       [1.],\n",
       "       [1.],\n",
       "       [1.],\n",
       "       [0.],\n",
       "       [0.],\n",
       "       [0.],\n",
       "       [0.],\n",
       "       [0.],\n",
       "       [0.],\n",
       "       [1.],\n",
       "       [0.],\n",
       "       [1.],\n",
       "       [1.],\n",
       "       [0.],\n",
       "       [1.],\n",
       "       [1.],\n",
       "       [0.],\n",
       "       [1.],\n",
       "       [0.],\n",
       "       [1.],\n",
       "       [1.],\n",
       "       [0.],\n",
       "       [1.],\n",
       "       [1.],\n",
       "       [1.],\n",
       "       [1.],\n",
       "       [0.],\n",
       "       [0.],\n",
       "       [0.],\n",
       "       [1.],\n",
       "       [1.],\n",
       "       [1.],\n",
       "       [1.],\n",
       "       [1.],\n",
       "       [0.],\n",
       "       [0.],\n",
       "       [0.],\n",
       "       [0.],\n",
       "       [1.],\n",
       "       [0.],\n",
       "       [1.],\n",
       "       [0.],\n",
       "       [1.],\n",
       "       [1.],\n",
       "       [0.],\n",
       "       [1.],\n",
       "       [1.],\n",
       "       [1.],\n",
       "       [1.],\n",
       "       [1.],\n",
       "       [1.],\n",
       "       [0.],\n",
       "       [1.],\n",
       "       [1.],\n",
       "       [1.],\n",
       "       [1.],\n",
       "       [1.],\n",
       "       [1.],\n",
       "       [0.],\n",
       "       [0.],\n",
       "       [1.],\n",
       "       [0.],\n",
       "       [1.],\n",
       "       [1.],\n",
       "       [1.],\n",
       "       [0.],\n",
       "       [1.],\n",
       "       [0.],\n",
       "       [0.],\n",
       "       [1.],\n",
       "       [1.],\n",
       "       [0.],\n",
       "       [0.],\n",
       "       [1.],\n",
       "       [1.],\n",
       "       [0.],\n",
       "       [0.],\n",
       "       [0.],\n",
       "       [1.],\n",
       "       [0.],\n",
       "       [0.],\n",
       "       [0.],\n",
       "       [1.],\n",
       "       [0.],\n",
       "       [1.],\n",
       "       [0.],\n",
       "       [1.],\n",
       "       [0.],\n",
       "       [1.],\n",
       "       [1.],\n",
       "       [0.],\n",
       "       [0.],\n",
       "       [1.],\n",
       "       [0.],\n",
       "       [0.],\n",
       "       [0.],\n",
       "       [1.],\n",
       "       [0.],\n",
       "       [0.],\n",
       "       [0.],\n",
       "       [0.],\n",
       "       [0.],\n",
       "       [0.],\n",
       "       [0.],\n",
       "       [0.],\n",
       "       [1.],\n",
       "       [1.],\n",
       "       [0.],\n",
       "       [1.],\n",
       "       [0.],\n",
       "       [0.],\n",
       "       [0.],\n",
       "       [0.],\n",
       "       [1.],\n",
       "       [1.],\n",
       "       [1.],\n",
       "       [1.],\n",
       "       [0.],\n",
       "       [1.],\n",
       "       [1.],\n",
       "       [1.],\n",
       "       [0.],\n",
       "       [0.],\n",
       "       [0.],\n",
       "       [1.],\n",
       "       [1.],\n",
       "       [1.],\n",
       "       [1.],\n",
       "       [0.],\n",
       "       [0.],\n",
       "       [0.],\n",
       "       [0.],\n",
       "       [1.],\n",
       "       [1.],\n",
       "       [1.],\n",
       "       [0.],\n",
       "       [1.],\n",
       "       [1.],\n",
       "       [1.],\n",
       "       [0.],\n",
       "       [1.],\n",
       "       [0.],\n",
       "       [0.],\n",
       "       [0.],\n",
       "       [0.],\n",
       "       [1.],\n",
       "       [0.],\n",
       "       [1.],\n",
       "       [0.],\n",
       "       [0.],\n",
       "       [1.],\n",
       "       [0.],\n",
       "       [1.],\n",
       "       [1.],\n",
       "       [1.],\n",
       "       [0.],\n",
       "       [0.],\n",
       "       [1.],\n",
       "       [0.],\n",
       "       [0.],\n",
       "       [0.],\n",
       "       [1.],\n",
       "       [1.],\n",
       "       [1.],\n",
       "       [0.],\n",
       "       [1.],\n",
       "       [0.],\n",
       "       [0.],\n",
       "       [0.],\n",
       "       [1.],\n",
       "       [1.],\n",
       "       [0.],\n",
       "       [1.],\n",
       "       [0.],\n",
       "       [0.],\n",
       "       [0.]], dtype=float32)"
      ]
     },
     "execution_count": 118,
     "metadata": {},
     "output_type": "execute_result"
    }
   ],
   "source": [
    "Y_preds"
   ]
  },
  {
   "cell_type": "code",
   "execution_count": 119,
   "id": "8d71addf",
   "metadata": {
    "scrolled": true
   },
   "outputs": [
    {
     "data": {
      "text/plain": [
       "747     1\n",
       "1880    1\n",
       "370     1\n",
       "920     0\n",
       "1194    1\n",
       "       ..\n",
       "1432    0\n",
       "1342    1\n",
       "589     0\n",
       "239     0\n",
       "1015    0\n",
       "Name: target, Length: 202, dtype: int64"
      ]
     },
     "execution_count": 119,
     "metadata": {},
     "output_type": "execute_result"
    }
   ],
   "source": [
    "Y_test"
   ]
  },
  {
   "cell_type": "code",
   "execution_count": 120,
   "id": "32e61f6c",
   "metadata": {},
   "outputs": [
    {
     "data": {
      "text/plain": [
       "0"
      ]
     },
     "execution_count": 120,
     "metadata": {},
     "output_type": "execute_result"
    }
   ],
   "source": [
    "Y_test.iloc[3]"
   ]
  },
  {
   "cell_type": "code",
   "execution_count": 121,
   "id": "6d79cc1f",
   "metadata": {
    "scrolled": true
   },
   "outputs": [
    {
     "data": {
      "text/plain": [
       "array([0.], dtype=float32)"
      ]
     },
     "execution_count": 121,
     "metadata": {},
     "output_type": "execute_result"
    }
   ],
   "source": [
    "Y_preds[3]"
   ]
  },
  {
   "cell_type": "code",
   "execution_count": 122,
   "id": "ad39ae40",
   "metadata": {},
   "outputs": [
    {
     "data": {
      "text/plain": [
       "1"
      ]
     },
     "execution_count": 122,
     "metadata": {},
     "output_type": "execute_result"
    }
   ],
   "source": [
    "Y_test.iloc[46]"
   ]
  },
  {
   "cell_type": "code",
   "execution_count": 123,
   "id": "db8fb0e8",
   "metadata": {},
   "outputs": [
    {
     "data": {
      "text/plain": [
       "array([1.], dtype=float32)"
      ]
     },
     "execution_count": 123,
     "metadata": {},
     "output_type": "execute_result"
    }
   ],
   "source": [
    "Y_preds[46]"
   ]
  },
  {
   "cell_type": "code",
   "execution_count": 99,
   "id": "32931145",
   "metadata": {},
   "outputs": [],
   "source": [
    "#the road near my house has alot of potholes, please fix them as it is very risky to drive"
   ]
  },
  {
   "cell_type": "code",
   "execution_count": 525,
   "id": "b05793bf",
   "metadata": {
    "scrolled": true
   },
   "outputs": [
    {
     "name": "stdout",
     "output_type": "stream",
     "text": [
      "enter stringWhile I understand the importance of generating revenue for infrastructure maintenance and improvements, I firmly believe that the toll pricing policy should take into consideration the economic realities faced by everyday citizens, especially those in lower income brackets who are disproportionately affected by these elevated toll rates.\n"
     ]
    }
   ],
   "source": [
    "user_input=input(\"enter string\")"
   ]
  },
  {
   "cell_type": "code",
   "execution_count": 358,
   "id": "a0dd4255",
   "metadata": {},
   "outputs": [],
   "source": [
    "def predictor_LSTM():\n",
    "    string=input(\" Enter your grievance: \")\n",
    "    DF=pd.DataFrame({'message':[string]})\n",
    "    DF['message']=DF['message'].apply(clean_text)\n",
    "    \n",
    "    tokenizer = Tokenizer(num_words=MAX_NB_WORDS, filters='!\"#$%&()*+,-./:;<=>?@[\\]^_`{|}~', lower=True)\n",
    "    tokenizer.fit_on_texts(X)\n",
    "    \n",
    "    x=tokenizer.texts_to_sequences(DF['message'].values)\n",
    "    x = pad_sequences(x, maxlen=MAX_SEQUENCE_LENGTH)\n",
    "    y=Model.predict(x)\n",
    "    ans=int(y[0][0]>=0.5)\n",
    "    L=[\"Dept of Road,Transport and Highways\",\"Dept of Jal Shakti\"]\n",
    "    \n",
    "    return L[ans]"
   ]
  },
  {
   "cell_type": "code",
   "execution_count": 85,
   "id": "dee55f88",
   "metadata": {},
   "outputs": [
    {
     "name": "stdout",
     "output_type": "stream",
     "text": [
      " Enter your grievance: clean ganga\n",
      "1/1 [==============================] - 0s 14ms/step\n"
     ]
    },
    {
     "data": {
      "text/plain": [
       "'Dept of Jal Shakti'"
      ]
     },
     "execution_count": 85,
     "metadata": {},
     "output_type": "execute_result"
    }
   ],
   "source": [
    "predictor_LSTM()"
   ]
  },
  {
   "cell_type": "code",
   "execution_count": 133,
   "id": "c7ad2825",
   "metadata": {},
   "outputs": [],
   "source": [
    "pickle.dump(Model, open('maglu.pkl', 'wb'))"
   ]
  },
  {
   "cell_type": "markdown",
   "id": "ed78205b",
   "metadata": {},
   "source": [
    "# ans=int(y[0][0]>=0.5)"
   ]
  },
  {
   "cell_type": "code",
   "execution_count": 360,
   "id": "2e164d0d",
   "metadata": {},
   "outputs": [],
   "source": [
    "def predictor():\n",
    "    string=input(\" Enter your grievance: \")\n",
    "    DF=pd.DataFrame({'message':[string]})\n",
    "    DF['message']=DF['message'].apply(clean_text)\n",
    "    \n",
    "    tokenizer = Tokenizer(num_words=MAX_NB_WORDS, filters='!\"#$%&()*+,-./:;<=>?@[\\]^_`{|}~', lower=True)\n",
    "    tokenizer.fit_on_texts(data['message'].values)\n",
    "    \n",
    "    x=tokenizer.texts_to_sequences(DF['message'].values)\n",
    "    x = pad_sequences(x, maxlen=MAX_SEQUENCE_LENGTH)\n",
    "    y=Model.predict(x)\n",
    "    #ans=int(y[0][0]>=0.6)\n",
    "    ans=y[0][0]\n",
    "    \n",
    "    L=[\"Dept of Road,Transport and Highways\",\"Dept of Jal Shakti\"]\n",
    "    \n",
    "    return ans"
   ]
  },
  {
   "cell_type": "code",
   "execution_count": 361,
   "id": "7f5579e8",
   "metadata": {
    "scrolled": true
   },
   "outputs": [
    {
     "name": "stdout",
     "output_type": "stream",
     "text": [
      " Enter your grievance: It is with deep concern that I report the deteriorating state of our roads, which is leading to increased frustration and hindrance to daily life and economic progress in our area.\n",
      "1/1 [==============================] - 0s 153ms/step\n"
     ]
    },
    {
     "data": {
      "text/plain": [
       "0.30237156"
      ]
     },
     "execution_count": 361,
     "metadata": {},
     "output_type": "execute_result"
    }
   ],
   "source": [
    "predictor()"
   ]
  },
  {
   "cell_type": "code",
   "execution_count": 362,
   "id": "a2bbe255",
   "metadata": {},
   "outputs": [
    {
     "name": "stdout",
     "output_type": "stream",
     "text": [
      " Enter your grievance: It is with deep concern that I report the deteriorating state of our roads, which is leading to increased frustration and hindrance to daily life and economic progress in our area.\n",
      "1/1 [==============================] - 0s 19ms/step\n"
     ]
    },
    {
     "data": {
      "text/plain": [
       "0.30237156"
      ]
     },
     "execution_count": 362,
     "metadata": {},
     "output_type": "execute_result"
    }
   ],
   "source": [
    "predictor()"
   ]
  },
  {
   "cell_type": "code",
   "execution_count": 363,
   "id": "77e9dd8b",
   "metadata": {
    "scrolled": true
   },
   "outputs": [
    {
     "name": "stdout",
     "output_type": "stream",
     "text": [
      " Enter your grievance: clean river ganga project is very slow\n",
      "1/1 [==============================] - 0s 21ms/step\n"
     ]
    },
    {
     "data": {
      "text/plain": [
       "0.9762607"
      ]
     },
     "execution_count": 363,
     "metadata": {},
     "output_type": "execute_result"
    }
   ],
   "source": [
    "predictor()"
   ]
  },
  {
   "cell_type": "code",
   "execution_count": 364,
   "id": "a1289e9f",
   "metadata": {},
   "outputs": [
    {
     "name": "stdout",
     "output_type": "stream",
     "text": [
      " Enter your grievance: the sanitation is very bad near the handpumps\n",
      "1/1 [==============================] - 0s 11ms/step\n"
     ]
    },
    {
     "data": {
      "text/plain": [
       "0.9751641"
      ]
     },
     "execution_count": 364,
     "metadata": {},
     "output_type": "execute_result"
    }
   ],
   "source": [
    "predictor()"
   ]
  },
  {
   "cell_type": "code",
   "execution_count": 365,
   "id": "5b54538f",
   "metadata": {},
   "outputs": [
    {
     "name": "stdout",
     "output_type": "stream",
     "text": [
      " Enter your grievance: i want to raise a concern about the potholes on road near my house\n",
      "1/1 [==============================] - 0s 11ms/step\n"
     ]
    },
    {
     "data": {
      "text/plain": [
       "0.4202877"
      ]
     },
     "execution_count": 365,
     "metadata": {},
     "output_type": "execute_result"
    }
   ],
   "source": [
    "predictor()"
   ]
  },
  {
   "cell_type": "code",
   "execution_count": 367,
   "id": "d6f87644",
   "metadata": {},
   "outputs": [
    {
     "name": "stdout",
     "output_type": "stream",
     "text": [
      " Enter your grievance: \"I'm concerned about the water quality in our homes. It's been consistently dirty, and we're worried about its impact on our health.\"\n",
      "1/1 [==============================] - 0s 64ms/step\n"
     ]
    },
    {
     "data": {
      "text/plain": [
       "0.9799195"
      ]
     },
     "execution_count": 367,
     "metadata": {},
     "output_type": "execute_result"
    }
   ],
   "source": [
    "predictor()"
   ]
  },
  {
   "cell_type": "code",
   "execution_count": 368,
   "id": "cde4afc6",
   "metadata": {},
   "outputs": [
    {
     "name": "stdout",
     "output_type": "stream",
     "text": [
      " Enter your grievance: I wish to express my concern regarding the inadequate street lighting, which poses a threat to our safety during the dark hours. Your intervention is crucial to mitigate these risks and ensure that our neighborhood is safe for all.\n",
      "1/1 [==============================] - 0s 86ms/step\n"
     ]
    },
    {
     "data": {
      "text/plain": [
       "0.39508915"
      ]
     },
     "execution_count": 368,
     "metadata": {},
     "output_type": "execute_result"
    }
   ],
   "source": [
    "predictor()"
   ]
  },
  {
   "cell_type": "code",
   "execution_count": 369,
   "id": "4ae46888",
   "metadata": {},
   "outputs": [
    {
     "name": "stdout",
     "output_type": "stream",
     "text": [
      " Enter your grievance: during rain, the canal overflows\n",
      "1/1 [==============================] - 0s 14ms/step\n"
     ]
    },
    {
     "data": {
      "text/plain": [
       "0.9744891"
      ]
     },
     "execution_count": 369,
     "metadata": {},
     "output_type": "execute_result"
    }
   ],
   "source": [
    "predictor()"
   ]
  },
  {
   "cell_type": "code",
   "execution_count": 373,
   "id": "5a33c85d",
   "metadata": {},
   "outputs": [
    {
     "name": "stdout",
     "output_type": "stream",
     "text": [
      " Enter your grievance: the toll prices are very high\n",
      "1/1 [==============================] - 0s 24ms/step\n"
     ]
    },
    {
     "data": {
      "text/plain": [
       "0.9735578"
      ]
     },
     "execution_count": 373,
     "metadata": {},
     "output_type": "execute_result"
    }
   ],
   "source": [
    "predictor()"
   ]
  },
  {
   "cell_type": "code",
   "execution_count": null,
   "id": "f4a7acc1",
   "metadata": {},
   "outputs": [],
   "source": []
  },
  {
   "cell_type": "code",
   "execution_count": 5,
   "id": "f72da2b3",
   "metadata": {},
   "outputs": [],
   "source": [
    "import pickle"
   ]
  },
  {
   "cell_type": "code",
   "execution_count": 601,
   "id": "e0e495e9",
   "metadata": {},
   "outputs": [],
   "source": [
    "model_pkl_file = \"DEPT_model.pkl\"  \n",
    "\n",
    "with open(model_pkl_file, 'wb') as file:  \n",
    "    pickle.dump(model, file)"
   ]
  },
  {
   "cell_type": "code",
   "execution_count": null,
   "id": "ccab3965",
   "metadata": {},
   "outputs": [],
   "source": [
    "with open(\"DEPT_model.pkl\",'rb') as file:\n",
    "    model=pickle.load(file)"
   ]
  },
  {
   "cell_type": "code",
   "execution_count": 89,
   "id": "b0f8f15d",
   "metadata": {},
   "outputs": [],
   "source": [
    "process_file=\"PreProcessing.pkl\""
   ]
  },
  {
   "cell_type": "code",
   "execution_count": null,
   "id": "20c771b4",
   "metadata": {},
   "outputs": [],
   "source": [
    "with open(process_file,'wb') as file:\n",
    "    pickle.dump(predictor,file)"
   ]
  },
  {
   "cell_type": "code",
   "execution_count": 90,
   "id": "44f23f50",
   "metadata": {},
   "outputs": [],
   "source": [
    "with open(process_file,'rb') as File:\n",
    "    func=pickle.load(File)\n"
   ]
  },
  {
   "cell_type": "code",
   "execution_count": null,
   "id": "d33d3a51",
   "metadata": {},
   "outputs": [],
   "source": []
  }
 ],
 "metadata": {
  "kernelspec": {
   "display_name": "Python 3 (ipykernel)",
   "language": "python",
   "name": "python3"
  },
  "language_info": {
   "codemirror_mode": {
    "name": "ipython",
    "version": 3
   },
   "file_extension": ".py",
   "mimetype": "text/x-python",
   "name": "python",
   "nbconvert_exporter": "python",
   "pygments_lexer": "ipython3",
   "version": "3.11.1"
  }
 },
 "nbformat": 4,
 "nbformat_minor": 5
}

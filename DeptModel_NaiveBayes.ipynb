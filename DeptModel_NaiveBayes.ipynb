{
 "cells": [
  {
   "cell_type": "code",
   "execution_count": 1,
   "id": "87024738",
   "metadata": {},
   "outputs": [],
   "source": [
    "import numpy as np\n",
    "import pandas as pd\n",
    "from sklearn.model_selection import train_test_split\n",
    "from sklearn.feature_extraction.text import CountVectorizer\n",
    "from sklearn.naive_bayes import MultinomialNB\n",
    "from sklearn.metrics import accuracy_score, classification_report\n",
    "\n",
    "data = pd.read_csv('Data.csv')\n"
   ]
  },
  {
   "cell_type": "code",
   "execution_count": 30,
   "id": "b98f308e",
   "metadata": {},
   "outputs": [],
   "source": [
    "from nltk.corpus import stopwords\n",
    "import re"
   ]
  },
  {
   "cell_type": "code",
   "execution_count": 3,
   "id": "67b0e3e8",
   "metadata": {},
   "outputs": [],
   "source": [
    "data.drop('Unnamed: 0', inplace=True, axis=1)"
   ]
  },
  {
   "cell_type": "code",
   "execution_count": 4,
   "id": "b8887b79",
   "metadata": {},
   "outputs": [
    {
     "data": {
      "text/html": [
       "<div>\n",
       "<style scoped>\n",
       "    .dataframe tbody tr th:only-of-type {\n",
       "        vertical-align: middle;\n",
       "    }\n",
       "\n",
       "    .dataframe tbody tr th {\n",
       "        vertical-align: top;\n",
       "    }\n",
       "\n",
       "    .dataframe thead th {\n",
       "        text-align: right;\n",
       "    }\n",
       "</style>\n",
       "<table border=\"1\" class=\"dataframe\">\n",
       "  <thead>\n",
       "    <tr style=\"text-align: right;\">\n",
       "      <th></th>\n",
       "      <th>message</th>\n",
       "      <th>target</th>\n",
       "    </tr>\n",
       "  </thead>\n",
       "  <tbody>\n",
       "    <tr>\n",
       "      <th>0</th>\n",
       "      <td>I'm writing to raise a serious concern about t...</td>\n",
       "      <td>1</td>\n",
       "    </tr>\n",
       "    <tr>\n",
       "      <th>1</th>\n",
       "      <td>Hello, there's an ongoing issue with the water...</td>\n",
       "      <td>1</td>\n",
       "    </tr>\n",
       "    <tr>\n",
       "      <th>2</th>\n",
       "      <td>Greetings, I'd like to report a problem with t...</td>\n",
       "      <td>1</td>\n",
       "    </tr>\n",
       "    <tr>\n",
       "      <th>3</th>\n",
       "      <td>Hi, we've been facing a persistent problem wit...</td>\n",
       "      <td>1</td>\n",
       "    </tr>\n",
       "    <tr>\n",
       "      <th>4</th>\n",
       "      <td>I'm concerned about the water quality in our h...</td>\n",
       "      <td>1</td>\n",
       "    </tr>\n",
       "    <tr>\n",
       "      <th>...</th>\n",
       "      <td>...</td>\n",
       "      <td>...</td>\n",
       "    </tr>\n",
       "    <tr>\n",
       "      <th>2009</th>\n",
       "      <td>Residents have expressed growing frustration o...</td>\n",
       "      <td>0</td>\n",
       "    </tr>\n",
       "    <tr>\n",
       "      <th>2010</th>\n",
       "      <td>The roads in our region have fallen into a sta...</td>\n",
       "      <td>0</td>\n",
       "    </tr>\n",
       "    <tr>\n",
       "      <th>2011</th>\n",
       "      <td>The road conditions are an issue of paramount ...</td>\n",
       "      <td>0</td>\n",
       "    </tr>\n",
       "    <tr>\n",
       "      <th>2012</th>\n",
       "      <td>I would appreciate your prompt attention to th...</td>\n",
       "      <td>0</td>\n",
       "    </tr>\n",
       "    <tr>\n",
       "      <th>2013</th>\n",
       "      <td>Your assistance in resolving the poor road con...</td>\n",
       "      <td>0</td>\n",
       "    </tr>\n",
       "  </tbody>\n",
       "</table>\n",
       "<p>2014 rows × 2 columns</p>\n",
       "</div>"
      ],
      "text/plain": [
       "                                                message  target\n",
       "0     I'm writing to raise a serious concern about t...       1\n",
       "1     Hello, there's an ongoing issue with the water...       1\n",
       "2     Greetings, I'd like to report a problem with t...       1\n",
       "3     Hi, we've been facing a persistent problem wit...       1\n",
       "4     I'm concerned about the water quality in our h...       1\n",
       "...                                                 ...     ...\n",
       "2009  Residents have expressed growing frustration o...       0\n",
       "2010  The roads in our region have fallen into a sta...       0\n",
       "2011  The road conditions are an issue of paramount ...       0\n",
       "2012  I would appreciate your prompt attention to th...       0\n",
       "2013  Your assistance in resolving the poor road con...       0\n",
       "\n",
       "[2014 rows x 2 columns]"
      ]
     },
     "execution_count": 4,
     "metadata": {},
     "output_type": "execute_result"
    }
   ],
   "source": [
    "data"
   ]
  },
  {
   "cell_type": "code",
   "execution_count": 35,
   "id": "b27fad39",
   "metadata": {},
   "outputs": [],
   "source": [
    "REPLACE_BY_SPACE_RE = re.compile('[/(){}\\|@,;]')\n",
    "BAD_SYMBOLS_RE = re.compile('[^0-9a-z #+_]')\n",
    "STOPWORDS = set(stopwords.words('english'))\n",
    "\n",
    "def clean_text(text):\n",
    "    \n",
    "    text = text.lower() # lowercase text\n",
    "    text = ' '.join(word for word in text.split() if word not in STOPWORDS) # remove stopwors from text\n",
    "    text = REPLACE_BY_SPACE_RE.sub(' ', text) # replace REPLACE_BY_SPACE_RE symbols by space in text. substitute the matched string in REPLACE_BY_SPACE_RE with space.\n",
    "    text = BAD_SYMBOLS_RE.sub('', text) # remove symbols which are in BAD_SYMBOLS_RE from text. substitute the matched string in BAD_SYMBOLS_RE with nothing. \n",
    "    text = text.replace('x', '')\n",
    "    \n",
    "    return text"
   ]
  },
  {
   "cell_type": "code",
   "execution_count": 36,
   "id": "6118a9fd",
   "metadata": {},
   "outputs": [],
   "source": [
    "data['message']=data['message'].apply(clean_text)"
   ]
  },
  {
   "cell_type": "code",
   "execution_count": 53,
   "id": "5e60ce09",
   "metadata": {},
   "outputs": [],
   "source": [
    "X = data['message']\n",
    "y = data['target']\n",
    "\n",
    "# Split the data into training and testing sets.\n",
    "X_train, X_test, y_train, y_test = train_test_split(X, y, test_size=0.2, random_state=42)"
   ]
  },
  {
   "cell_type": "code",
   "execution_count": 79,
   "id": "af3bcc23",
   "metadata": {},
   "outputs": [
    {
     "data": {
      "text/plain": [
       "261     deteriorating cleanliness pond causing spread ...\n",
       "746     drains good  cant take away water rains  thats...\n",
       "1380    potholes posing significant challenges commute...\n",
       "240     unclean water pond unfit animals drink  posing...\n",
       "1644    hope listen concerns lack street lights making...\n",
       "                              ...                        \n",
       "1130    attention matter greatly appreciated  hope wor...\n",
       "1294    venting  finding way end neverending cycle roa...\n",
       "860     urgently implore authorities epedite clean gan...\n",
       "1459    find stuck dilemma daily routine revolves arou...\n",
       "1126    please provide clear transparent eplanation re...\n",
       "Name: message, Length: 1611, dtype: object"
      ]
     },
     "execution_count": 79,
     "metadata": {},
     "output_type": "execute_result"
    }
   ],
   "source": [
    "X_train"
   ]
  },
  {
   "cell_type": "code",
   "execution_count": 77,
   "id": "dfb2d73d",
   "metadata": {},
   "outputs": [],
   "source": [
    "# Create a CountVectorizer to convert text data into numerical features.\n",
    "vectorizer = CountVectorizer(ngram_range=(1,3))\n",
    "X_train_vec = vectorizer.fit_transform(X_train)\n",
    "X_test_vec = vectorizer.transform(X_test)\n"
   ]
  },
  {
   "cell_type": "code",
   "execution_count": 80,
   "id": "18bf0087",
   "metadata": {},
   "outputs": [
    {
     "data": {
      "text/plain": [
       "<403x27884 sparse matrix of type '<class 'numpy.int64'>'\n",
       "\twith 12011 stored elements in Compressed Sparse Row format>"
      ]
     },
     "execution_count": 80,
     "metadata": {},
     "output_type": "execute_result"
    }
   ],
   "source": [
    "X_test_vec"
   ]
  },
  {
   "cell_type": "code",
   "execution_count": 55,
   "id": "0bcc98be",
   "metadata": {},
   "outputs": [
    {
     "data": {
      "text/plain": [
       "<1611x27884 sparse matrix of type '<class 'numpy.int64'>'\n",
       "\twith 67473 stored elements in Compressed Sparse Row format>"
      ]
     },
     "execution_count": 55,
     "metadata": {},
     "output_type": "execute_result"
    }
   ],
   "source": [
    "X_train_vec"
   ]
  },
  {
   "cell_type": "code",
   "execution_count": 56,
   "id": "c0f0283e",
   "metadata": {},
   "outputs": [
    {
     "data": {
      "text/plain": [
       "27884"
      ]
     },
     "execution_count": 56,
     "metadata": {},
     "output_type": "execute_result"
    }
   ],
   "source": [
    "len(vectorizer.vocabulary_)"
   ]
  },
  {
   "cell_type": "code",
   "execution_count": 57,
   "id": "7e674a52",
   "metadata": {},
   "outputs": [
    {
     "data": {
      "text/plain": [
       "(1611, 27884)"
      ]
     },
     "execution_count": 57,
     "metadata": {},
     "output_type": "execute_result"
    }
   ],
   "source": [
    "X_train_vec.shape"
   ]
  },
  {
   "cell_type": "code",
   "execution_count": 115,
   "id": "a9cc82da",
   "metadata": {},
   "outputs": [],
   "source": [
    "import tensorflow as tf\n",
    "#from tensorflow import keras\n",
    "from tensorflow.keras.preprocessing.text import Tokenizer\n",
    "from tensorflow.keras.preprocessing.sequence import pad_sequences\n",
    "from tensorflow.keras.models import Sequential\n",
    "from tensorflow.keras.layers import Dense, Embedding, LSTM, SpatialDropout1D,Bidirectional\n",
    "from sklearn.model_selection import train_test_split\n",
    "#from np_utils import to_categorical\n",
    "from tensorflow.keras.callbacks import EarlyStopping\n",
    "from tensorflow.keras.layers import Dropout\n",
    "from nltk import word_tokenize\n"
   ]
  },
  {
   "cell_type": "code",
   "execution_count": 58,
   "id": "fce95e87",
   "metadata": {},
   "outputs": [
    {
     "data": {
      "text/html": [
       "<style>#sk-container-id-4 {color: black;background-color: white;}#sk-container-id-4 pre{padding: 0;}#sk-container-id-4 div.sk-toggleable {background-color: white;}#sk-container-id-4 label.sk-toggleable__label {cursor: pointer;display: block;width: 100%;margin-bottom: 0;padding: 0.3em;box-sizing: border-box;text-align: center;}#sk-container-id-4 label.sk-toggleable__label-arrow:before {content: \"▸\";float: left;margin-right: 0.25em;color: #696969;}#sk-container-id-4 label.sk-toggleable__label-arrow:hover:before {color: black;}#sk-container-id-4 div.sk-estimator:hover label.sk-toggleable__label-arrow:before {color: black;}#sk-container-id-4 div.sk-toggleable__content {max-height: 0;max-width: 0;overflow: hidden;text-align: left;background-color: #f0f8ff;}#sk-container-id-4 div.sk-toggleable__content pre {margin: 0.2em;color: black;border-radius: 0.25em;background-color: #f0f8ff;}#sk-container-id-4 input.sk-toggleable__control:checked~div.sk-toggleable__content {max-height: 200px;max-width: 100%;overflow: auto;}#sk-container-id-4 input.sk-toggleable__control:checked~label.sk-toggleable__label-arrow:before {content: \"▾\";}#sk-container-id-4 div.sk-estimator input.sk-toggleable__control:checked~label.sk-toggleable__label {background-color: #d4ebff;}#sk-container-id-4 div.sk-label input.sk-toggleable__control:checked~label.sk-toggleable__label {background-color: #d4ebff;}#sk-container-id-4 input.sk-hidden--visually {border: 0;clip: rect(1px 1px 1px 1px);clip: rect(1px, 1px, 1px, 1px);height: 1px;margin: -1px;overflow: hidden;padding: 0;position: absolute;width: 1px;}#sk-container-id-4 div.sk-estimator {font-family: monospace;background-color: #f0f8ff;border: 1px dotted black;border-radius: 0.25em;box-sizing: border-box;margin-bottom: 0.5em;}#sk-container-id-4 div.sk-estimator:hover {background-color: #d4ebff;}#sk-container-id-4 div.sk-parallel-item::after {content: \"\";width: 100%;border-bottom: 1px solid gray;flex-grow: 1;}#sk-container-id-4 div.sk-label:hover label.sk-toggleable__label {background-color: #d4ebff;}#sk-container-id-4 div.sk-serial::before {content: \"\";position: absolute;border-left: 1px solid gray;box-sizing: border-box;top: 0;bottom: 0;left: 50%;z-index: 0;}#sk-container-id-4 div.sk-serial {display: flex;flex-direction: column;align-items: center;background-color: white;padding-right: 0.2em;padding-left: 0.2em;position: relative;}#sk-container-id-4 div.sk-item {position: relative;z-index: 1;}#sk-container-id-4 div.sk-parallel {display: flex;align-items: stretch;justify-content: center;background-color: white;position: relative;}#sk-container-id-4 div.sk-item::before, #sk-container-id-4 div.sk-parallel-item::before {content: \"\";position: absolute;border-left: 1px solid gray;box-sizing: border-box;top: 0;bottom: 0;left: 50%;z-index: -1;}#sk-container-id-4 div.sk-parallel-item {display: flex;flex-direction: column;z-index: 1;position: relative;background-color: white;}#sk-container-id-4 div.sk-parallel-item:first-child::after {align-self: flex-end;width: 50%;}#sk-container-id-4 div.sk-parallel-item:last-child::after {align-self: flex-start;width: 50%;}#sk-container-id-4 div.sk-parallel-item:only-child::after {width: 0;}#sk-container-id-4 div.sk-dashed-wrapped {border: 1px dashed gray;margin: 0 0.4em 0.5em 0.4em;box-sizing: border-box;padding-bottom: 0.4em;background-color: white;}#sk-container-id-4 div.sk-label label {font-family: monospace;font-weight: bold;display: inline-block;line-height: 1.2em;}#sk-container-id-4 div.sk-label-container {text-align: center;}#sk-container-id-4 div.sk-container {/* jupyter's `normalize.less` sets `[hidden] { display: none; }` but bootstrap.min.css set `[hidden] { display: none !important; }` so we also need the `!important` here to be able to override the default hidden behavior on the sphinx rendered scikit-learn.org. See: https://github.com/scikit-learn/scikit-learn/issues/21755 */display: inline-block !important;position: relative;}#sk-container-id-4 div.sk-text-repr-fallback {display: none;}</style><div id=\"sk-container-id-4\" class=\"sk-top-container\"><div class=\"sk-text-repr-fallback\"><pre>MultinomialNB()</pre><b>In a Jupyter environment, please rerun this cell to show the HTML representation or trust the notebook. <br />On GitHub, the HTML representation is unable to render, please try loading this page with nbviewer.org.</b></div><div class=\"sk-container\" hidden><div class=\"sk-item\"><div class=\"sk-estimator sk-toggleable\"><input class=\"sk-toggleable__control sk-hidden--visually\" id=\"sk-estimator-id-4\" type=\"checkbox\" checked><label for=\"sk-estimator-id-4\" class=\"sk-toggleable__label sk-toggleable__label-arrow\">MultinomialNB</label><div class=\"sk-toggleable__content\"><pre>MultinomialNB()</pre></div></div></div></div></div>"
      ],
      "text/plain": [
       "MultinomialNB()"
      ]
     },
     "execution_count": 58,
     "metadata": {},
     "output_type": "execute_result"
    }
   ],
   "source": [
    "# Create and train a Multinomial Naive Bayes classifier.\n",
    "classifier = MultinomialNB()\n",
    "classifier.fit(X_train_vec, y_train)\n"
   ]
  },
  {
   "cell_type": "code",
   "execution_count": 62,
   "id": "47b1ebec",
   "metadata": {},
   "outputs": [
    {
     "data": {
      "text/plain": [
       "1198    0\n",
       "526     1\n",
       "393     1\n",
       "1407    0\n",
       "433     1\n",
       "       ..\n",
       "1793    0\n",
       "1111    0\n",
       "693     1\n",
       "1492    0\n",
       "921     1\n",
       "Name: target, Length: 403, dtype: int64"
      ]
     },
     "execution_count": 62,
     "metadata": {},
     "output_type": "execute_result"
    }
   ],
   "source": [
    "y_test"
   ]
  },
  {
   "cell_type": "code",
   "execution_count": 59,
   "id": "e8b6d2d1",
   "metadata": {},
   "outputs": [],
   "source": [
    "y_pred = classifier.predict(X_test_vec)"
   ]
  },
  {
   "cell_type": "code",
   "execution_count": 61,
   "id": "a6285fad",
   "metadata": {},
   "outputs": [
    {
     "data": {
      "text/plain": [
       "403"
      ]
     },
     "execution_count": 61,
     "metadata": {},
     "output_type": "execute_result"
    }
   ],
   "source": [
    "len(y_pred)"
   ]
  },
  {
   "cell_type": "code",
   "execution_count": 47,
   "id": "9734c811",
   "metadata": {},
   "outputs": [],
   "source": [
    "accuracy = accuracy_score(y_test, y_pred)"
   ]
  },
  {
   "cell_type": "code",
   "execution_count": 48,
   "id": "5f197459",
   "metadata": {},
   "outputs": [
    {
     "data": {
      "text/plain": [
       "1.0"
      ]
     },
     "execution_count": 48,
     "metadata": {},
     "output_type": "execute_result"
    }
   ],
   "source": [
    "accuracy"
   ]
  },
  {
   "cell_type": "code",
   "execution_count": 63,
   "id": "4ed84b5e",
   "metadata": {
    "scrolled": true
   },
   "outputs": [
    {
     "data": {
      "text/plain": [
       "array([0, 1, 1, 0, 1, 0, 0, 1, 0, 1, 0, 0, 0, 0, 1, 1, 0, 1, 0, 1, 0, 0,\n",
       "       1, 0, 0, 0, 0, 0, 1, 0, 1, 0, 1, 1, 0, 1, 1, 1, 1, 1, 1, 1, 1, 1,\n",
       "       1, 1, 0, 1, 0, 0, 0, 0, 0, 1, 0, 0, 1, 1, 0, 1, 1, 0, 0, 0, 0, 1,\n",
       "       1, 0, 1, 1, 0, 1, 0, 0, 0, 0, 0, 0, 1, 1, 0, 1, 0, 0, 0, 1, 0, 1,\n",
       "       1, 0, 0, 0, 1, 0, 0, 1, 0, 0, 1, 0, 0, 0, 1, 0, 0, 1, 1, 1, 0, 0,\n",
       "       0, 1, 1, 1, 0, 0, 1, 0, 0, 0, 1, 0, 0, 1, 0, 0, 1, 0, 1, 1, 0, 1,\n",
       "       1, 0, 0, 1, 0, 0, 1, 1, 0, 1, 1, 0, 0, 1, 1, 0, 0, 1, 1, 1, 0, 0,\n",
       "       1, 1, 0, 1, 1, 1, 1, 1, 0, 1, 1, 0, 1, 1, 0, 1, 0, 1, 0, 1, 0, 0,\n",
       "       0, 1, 0, 0, 0, 1, 1, 0, 1, 1, 0, 1, 1, 1, 0, 0, 1, 0, 1, 1, 1, 0,\n",
       "       1, 1, 0, 0, 1, 1, 0, 0, 0, 1, 0, 0, 1, 1, 0, 1, 1, 0, 1, 1, 1, 1,\n",
       "       1, 0, 1, 1, 0, 0, 0, 0, 0, 1, 1, 1, 0, 0, 1, 1, 1, 0, 0, 0, 1, 1,\n",
       "       0, 1, 0, 1, 1, 1, 0, 0, 0, 1, 1, 0, 1, 1, 0, 0, 1, 0, 1, 0, 1, 0,\n",
       "       1, 1, 1, 1, 1, 1, 1, 1, 1, 0, 0, 0, 1, 0, 0, 0, 0, 0, 0, 1, 0, 0,\n",
       "       1, 1, 1, 1, 0, 1, 1, 1, 1, 0, 0, 1, 0, 1, 1, 0, 0, 1, 0, 1, 0, 0,\n",
       "       0, 1, 1, 1, 1, 1, 0, 0, 1, 0, 0, 0, 1, 0, 0, 0, 0, 1, 1, 1, 1, 0,\n",
       "       1, 0, 1, 0, 0, 0, 1, 0, 1, 0, 0, 1, 1, 1, 0, 0, 1, 0, 0, 1, 0, 1,\n",
       "       0, 0, 1, 1, 0, 1, 0, 1, 1, 0, 1, 1, 1, 1, 1, 0, 1, 1, 1, 0, 1, 0,\n",
       "       1, 0, 0, 1, 0, 0, 1, 1, 1, 0, 1, 1, 0, 1, 0, 0, 1, 1, 1, 1, 0, 0,\n",
       "       0, 1, 0, 0, 1, 0, 1])"
      ]
     },
     "execution_count": 63,
     "metadata": {},
     "output_type": "execute_result"
    }
   ],
   "source": [
    "y_pred"
   ]
  },
  {
   "cell_type": "code",
   "execution_count": 78,
   "id": "5281d156",
   "metadata": {},
   "outputs": [
    {
     "data": {
      "text/plain": [
       "{'deteriorating': 6442,\n",
       " 'cleanliness': 3559,\n",
       " 'pond': 17557,\n",
       " 'causing': 2924,\n",
       " 'spread': 23179,\n",
       " 'waterborne': 27014,\n",
       " 'diseases': 6805,\n",
       " 'affecting': 699,\n",
       " 'health': 10442,\n",
       " 'residents': 20278,\n",
       " 'deteriorating cleanliness': 6443,\n",
       " 'cleanliness pond': 3590,\n",
       " 'pond causing': 17571,\n",
       " 'causing spread': 3079,\n",
       " 'spread waterborne': 23185,\n",
       " 'waterborne diseases': 27015,\n",
       " 'diseases affecting': 6806,\n",
       " 'affecting health': 748,\n",
       " 'health residents': 10518,\n",
       " 'deteriorating cleanliness pond': 6450,\n",
       " 'cleanliness pond causing': 3593,\n",
       " 'pond causing spread': 17573,\n",
       " 'causing spread waterborne': 3081,\n",
       " 'spread waterborne diseases': 23186,\n",
       " 'waterborne diseases affecting': 27016,\n",
       " 'diseases affecting health': 6807,\n",
       " 'affecting health residents': 750,\n",
       " 'drains': 7119,\n",
       " 'good': 9778,\n",
       " 'cant': 2752,\n",
       " 'take': 24260,\n",
       " 'away': 2009,\n",
       " 'water': 26647,\n",
       " 'rains': 19098,\n",
       " 'thats': 24482,\n",
       " 'big': 2362,\n",
       " 'problem': 18274,\n",
       " 'drains good': 7126,\n",
       " 'good cant': 9779,\n",
       " 'cant take': 2780,\n",
       " 'take away': 24275,\n",
       " 'away water': 2022,\n",
       " 'water rains': 26848,\n",
       " 'rains thats': 19141,\n",
       " 'thats big': 24483,\n",
       " 'big problem': 2374,\n",
       " 'drains good cant': 7127,\n",
       " 'good cant take': 9780,\n",
       " 'cant take away': 2783,\n",
       " 'take away water': 24276,\n",
       " 'away water rains': 2023,\n",
       " 'water rains thats': 26850,\n",
       " 'rains thats big': 19142,\n",
       " 'thats big problem': 24484,\n",
       " 'potholes': 17820,\n",
       " 'posing': 17727,\n",
       " 'significant': 22641,\n",
       " 'challenges': 3148,\n",
       " 'commuters': 4078,\n",
       " 'accidents': 149,\n",
       " 'traffic': 24975,\n",
       " 'disruptions': 6946,\n",
       " 'potholes posing': 17966,\n",
       " 'posing significant': 17754,\n",
       " 'significant challenges': 22648,\n",
       " 'challenges commuters': 3161,\n",
       " 'commuters causing': 4083,\n",
       " 'causing accidents': 2925,\n",
       " 'accidents traffic': 182,\n",
       " 'traffic disruptions': 24991,\n",
       " 'potholes posing significant': 17968,\n",
       " 'posing significant challenges': 17755,\n",
       " 'significant challenges commuters': 22652,\n",
       " 'challenges commuters causing': 3162,\n",
       " 'commuters causing accidents': 4084,\n",
       " 'causing accidents traffic': 2927,\n",
       " 'accidents traffic disruptions': 183,\n",
       " 'unclean': 25537,\n",
       " 'unfit': 25738,\n",
       " 'animals': 1289,\n",
       " 'drink': 7154,\n",
       " 'threat': 24594,\n",
       " 'wellbeing': 27126,\n",
       " 'unclean water': 25595,\n",
       " 'water pond': 26801,\n",
       " 'pond unfit': 17603,\n",
       " 'unfit animals': 25739,\n",
       " 'animals drink': 1295,\n",
       " 'drink posing': 7155,\n",
       " 'posing threat': 17756,\n",
       " 'threat health': 24604,\n",
       " 'health wellbeing': 10550,\n",
       " 'unclean water pond': 25600,\n",
       " 'water pond unfit': 26812,\n",
       " 'pond unfit animals': 17604,\n",
       " 'unfit animals drink': 25741,\n",
       " 'animals drink posing': 1296,\n",
       " 'drink posing threat': 7156,\n",
       " 'posing threat health': 17758,\n",
       " 'threat health wellbeing': 24605,\n",
       " 'hope': 11071,\n",
       " 'listen': 14077,\n",
       " 'concerns': 4702,\n",
       " 'lack': 13245,\n",
       " 'street': 23594,\n",
       " 'lights': 13904,\n",
       " 'making': 14615,\n",
       " 'community': 3870,\n",
       " 'less': 13560,\n",
       " 'safe': 21652,\n",
       " 'need': 15631,\n",
       " 'help': 10631,\n",
       " 'hope listen': 11095,\n",
       " 'listen concerns': 14078,\n",
       " 'concerns lack': 4754,\n",
       " 'lack street': 13281,\n",
       " 'street lights': 23633,\n",
       " 'lights making': 13919,\n",
       " 'making community': 14627,\n",
       " 'community less': 3938,\n",
       " 'less safe': 13565,\n",
       " 'safe need': 21671,\n",
       " 'need help': 15669,\n",
       " 'hope listen concerns': 11096,\n",
       " 'listen concerns lack': 14079,\n",
       " 'concerns lack street': 4755,\n",
       " 'lack street lights': 13283,\n",
       " 'street lights making': 23638,\n",
       " 'lights making community': 13920,\n",
       " 'making community less': 14628,\n",
       " 'community less safe': 3939,\n",
       " 'less safe need': 13568,\n",
       " 'safe need help': 21672,\n",
       " 'would': 27680,\n",
       " 'appreciate': 1413,\n",
       " 'prompt': 18627,\n",
       " 'attention': 1777,\n",
       " 'pressing': 18095,\n",
       " 'matter': 14804,\n",
       " 'road': 21203,\n",
       " 'conditions': 4863,\n",
       " 'imperative': 11744,\n",
       " 'address': 418,\n",
       " 'issue': 12762,\n",
       " 'ensure': 7848,\n",
       " 'safety': 21742,\n",
       " 'citizens': 3426,\n",
       " 'along': 1040,\n",
       " 'addressing': 514,\n",
       " 'congestion': 4970,\n",
       " 'would appreciate': 27681,\n",
       " 'appreciate prompt': 1420,\n",
       " 'prompt attention': 18636,\n",
       " 'attention pressing': 1855,\n",
       " 'pressing matter': 18125,\n",
       " 'matter road': 14876,\n",
       " 'road conditions': 21212,\n",
       " 'conditions community': 4882,\n",
       " 'community imperative': 3923,\n",
       " 'imperative address': 11745,\n",
       " 'address issue': 443,\n",
       " 'issue ensure': 12825,\n",
       " 'ensure wellbeing': 7920,\n",
       " 'wellbeing safety': 27201,\n",
       " 'safety citizens': 21763,\n",
       " 'citizens along': 3433,\n",
       " 'along addressing': 1041,\n",
       " 'addressing traffic': 549,\n",
       " 'traffic congestion': 24976,\n",
       " 'would appreciate prompt': 27683,\n",
       " 'appreciate prompt attention': 1421,\n",
       " 'prompt attention pressing': 18642,\n",
       " 'attention pressing matter': 1858,\n",
       " 'pressing matter road': 18126,\n",
       " 'matter road conditions': 14877,\n",
       " 'road conditions community': 21218,\n",
       " 'conditions community imperative': 4883,\n",
       " 'community imperative address': 3924,\n",
       " 'imperative address issue': 11747,\n",
       " 'address issue ensure': 446,\n",
       " 'issue ensure wellbeing': 12828,\n",
       " 'ensure wellbeing safety': 7922,\n",
       " 'wellbeing safety citizens': 27203,\n",
       " 'safety citizens along': 21764,\n",
       " 'citizens along addressing': 3434,\n",
       " 'along addressing traffic': 1042,\n",
       " 'addressing traffic congestion': 550,\n",
       " 'canals': 2712,\n",
       " 'overflow': 16543,\n",
       " 'rain': 19027,\n",
       " 'constant': 5209,\n",
       " 'source': 23080,\n",
       " 'frustration': 9382,\n",
       " 'us': 26077,\n",
       " 'canals overflow': 2721,\n",
       " 'overflow rain': 16564,\n",
       " 'rain constant': 19038,\n",
       " 'constant source': 5233,\n",
       " 'source frustration': 23093,\n",
       " 'frustration us': 9452,\n",
       " 'canals overflow rain': 2726,\n",
       " 'overflow rain constant': 16567,\n",
       " 'rain constant source': 19039,\n",
       " 'constant source frustration': 5236,\n",
       " 'source frustration us': 23099,\n",
       " 'please': 17219,\n",
       " 'consider': 5096,\n",
       " 'conducting': 4947,\n",
       " 'thorough': 24580,\n",
       " 'assessment': 1713,\n",
       " 'ministrys': 15176,\n",
       " 'helpline': 10673,\n",
       " 'system': 24121,\n",
       " 'urgent': 26013,\n",
       " 'roads': 21313,\n",
       " 'ensuring': 7929,\n",
       " 'effectively': 7497,\n",
       " 'report': 20015,\n",
       " 'roadrelated': 21303,\n",
       " 'problems': 18363,\n",
       " 'issues': 12949,\n",
       " 'utmost': 26229,\n",
       " 'importance': 11825,\n",
       " 'proper': 18686,\n",
       " 'signage': 22620,\n",
       " 'measures': 14972,\n",
       " 'also': 1074,\n",
       " 'concern': 4318,\n",
       " 'addressed': 502,\n",
       " 'please consider': 17230,\n",
       " 'consider conducting': 5099,\n",
       " 'conducting thorough': 4948,\n",
       " 'thorough assessment': 24581,\n",
       " 'assessment ministrys': 1716,\n",
       " 'ministrys helpline': 15177,\n",
       " 'helpline system': 10713,\n",
       " 'system urgent': 24229,\n",
       " 'urgent matter': 26032,\n",
       " 'matter potholes': 14861,\n",
       " 'potholes roads': 17988,\n",
       " 'roads ensuring': 21379,\n",
       " 'ensuring citizens': 7934,\n",
       " 'citizens effectively': 3443,\n",
       " 'effectively report': 7502,\n",
       " 'report roadrelated': 20045,\n",
       " 'roadrelated problems': 21310,\n",
       " 'problems potholes': 18400,\n",
       " 'potholes road': 17983,\n",
       " 'road safety': 21277,\n",
       " 'safety issues': 21847,\n",
       " 'issues utmost': 13023,\n",
       " 'utmost importance': 26234,\n",
       " 'importance lack': 11836,\n",
       " 'lack proper': 13270,\n",
       " 'proper signage': 18702,\n",
       " 'signage road': 22621,\n",
       " 'safety measures': 21862,\n",
       " 'measures also': 14978,\n",
       " 'also matter': 1147,\n",
       " 'matter concern': 14821,\n",
       " 'concern addressed': 4321,\n",
       " 'please consider conducting': 17231,\n",
       " 'consider conducting thorough': 5100,\n",
       " 'conducting thorough assessment': 4949,\n",
       " 'thorough assessment ministrys': 24583,\n",
       " 'assessment ministrys helpline': 1717,\n",
       " 'ministrys helpline system': 15182,\n",
       " 'helpline system urgent': 10715,\n",
       " 'system urgent matter': 24230,\n",
       " 'urgent matter potholes': 26033,\n",
       " 'matter potholes roads': 14862,\n",
       " 'potholes roads ensuring': 17995,\n",
       " 'roads ensuring citizens': 21380,\n",
       " 'ensuring citizens effectively': 7935,\n",
       " 'citizens effectively report': 3444,\n",
       " 'effectively report roadrelated': 7503,\n",
       " 'report roadrelated problems': 20047,\n",
       " 'roadrelated problems potholes': 21311,\n",
       " 'problems potholes road': 18401,\n",
       " 'potholes road safety': 17987,\n",
       " 'road safety issues': 21285,\n",
       " 'safety issues utmost': 21851,\n",
       " 'issues utmost importance': 13024,\n",
       " 'utmost importance lack': 26235,\n",
       " 'importance lack proper': 11837,\n",
       " 'lack proper signage': 13273,\n",
       " 'proper signage road': 18703,\n",
       " 'signage road safety': 22622,\n",
       " 'road safety measures': 21288,\n",
       " 'safety measures also': 21863,\n",
       " 'measures also matter': 14979,\n",
       " 'also matter concern': 1148,\n",
       " 'matter concern addressed': 14822,\n",
       " 'living': 14214,\n",
       " 'net': 15908,\n",
       " 'wretched': 27712,\n",
       " 'river': 21013,\n",
       " 'nightmare': 15958,\n",
       " 'dirty': 6641,\n",
       " 'hell': 10604,\n",
       " 'endless': 7731,\n",
       " 'troubles': 25412,\n",
       " 'patience': 16816,\n",
       " 'running': 21632,\n",
       " 'out': 16459,\n",
       " 'demand': 6269,\n",
       " 'action': 268,\n",
       " 'now': 16044,\n",
       " 'living net': 14247,\n",
       " 'net wretched': 15911,\n",
       " 'wretched river': 27713,\n",
       " 'river nightmare': 21100,\n",
       " 'nightmare dirty': 15959,\n",
       " 'dirty hell': 6650,\n",
       " 'hell causing': 10605,\n",
       " 'causing endless': 2989,\n",
       " 'endless troubles': 7734,\n",
       " 'troubles patience': 25415,\n",
       " 'patience running': 16817,\n",
       " 'running out': 21633,\n",
       " 'out demand': 16460,\n",
       " 'demand action': 6270,\n",
       " 'action now': 307,\n",
       " 'living net wretched': 14248,\n",
       " 'net wretched river': 15912,\n",
       " 'wretched river nightmare': 27714,\n",
       " 'river nightmare dirty': 21101,\n",
       " 'nightmare dirty hell': 15960,\n",
       " 'dirty hell causing': 6651,\n",
       " 'hell causing endless': 10606,\n",
       " 'causing endless troubles': 2991,\n",
       " 'endless troubles patience': 7735,\n",
       " 'troubles patience running': 25416,\n",
       " 'patience running out': 16818,\n",
       " 'running out demand': 21634,\n",
       " 'out demand action': 16461,\n",
       " 'demand action now': 6271,\n",
       " 'may': 14900,\n",
       " 'im': 11402,\n",
       " 'reaching': 19377,\n",
       " 'grievance': 9954,\n",
       " 'app': 1354,\n",
       " 'irregular': 12748,\n",
       " 'supply': 23904,\n",
       " 'timings': 24758,\n",
       " 'neighborhood': 15818,\n",
       " 'inconsistent': 12089,\n",
       " 'schedules': 22065,\n",
       " 'daily': 5760,\n",
       " 'lives': 14109,\n",
       " 'may concern': 14901,\n",
       " 'concern im': 4411,\n",
       " 'im reaching': 11454,\n",
       " 'reaching grievance': 19380,\n",
       " 'grievance app': 9955,\n",
       " 'app address': 1355,\n",
       " 'issue irregular': 12853,\n",
       " 'irregular water': 12753,\n",
       " 'water supply': 26935,\n",
       " 'supply timings': 23958,\n",
       " 'timings neighborhood': 24781,\n",
       " 'neighborhood inconsistent': 15848,\n",
       " 'inconsistent schedules': 12094,\n",
       " 'schedules causing': 22068,\n",
       " 'causing disruptions': 2977,\n",
       " 'disruptions daily': 6949,\n",
       " 'daily lives': 5817,\n",
       " 'may concern im': 14903,\n",
       " 'concern im reaching': 4412,\n",
       " 'im reaching grievance': 11455,\n",
       " 'reaching grievance app': 19381,\n",
       " 'grievance app address': 9956,\n",
       " 'app address issue': 1356,\n",
       " 'address issue irregular': 449,\n",
       " 'issue irregular water': 12855,\n",
       " 'irregular water supply': 12755,\n",
       " 'water supply timings': 26959,\n",
       " 'supply timings neighborhood': 23968,\n",
       " 'timings neighborhood inconsistent': 24783,\n",
       " 'neighborhood inconsistent schedules': 15849,\n",
       " 'inconsistent schedules causing': 12095,\n",
       " 'schedules causing disruptions': 22069,\n",
       " 'causing disruptions daily': 2978,\n",
       " 'disruptions daily lives': 6951,\n",
       " 'deeply': 6111,\n",
       " 'concerned': 4552,\n",
       " 'policies': 17425,\n",
       " 'supporting': 24013,\n",
       " 'rainwater': 19145,\n",
       " 'harvesting': 10283,\n",
       " 'region': 19708,\n",
       " 'deeply concerned': 6121,\n",
       " 'concerned lack': 4599,\n",
       " 'lack policies': 13264,\n",
       " 'policies supporting': 17428,\n",
       " 'supporting rainwater': 24014,\n",
       " 'rainwater harvesting': 19158,\n",
       " 'harvesting region': 10324,\n",
       " 'deeply concerned lack': 6128,\n",
       " 'concerned lack policies': 4600,\n",
       " 'lack policies supporting': 13265,\n",
       " 'policies supporting rainwater': 17429,\n",
       " 'supporting rainwater harvesting': 24015,\n",
       " 'rainwater harvesting region': 19178,\n",
       " 'humble': 11321,\n",
       " 'request': 20080,\n",
       " 'prioritize': 18209,\n",
       " 'inadequate': 11997,\n",
       " 'rest': 20640,\n",
       " 'stops': 23392,\n",
       " 'comfort': 3761,\n",
       " 'convenience': 5384,\n",
       " 'travelers': 25233,\n",
       " 'like': 13934,\n",
       " 'highways': 10801,\n",
       " 'adequate': 558,\n",
       " 'vital': 26459,\n",
       " 'positive': 17762,\n",
       " 'travel': 25188,\n",
       " 'eperience': 8113,\n",
       " 'humble request': 11322,\n",
       " 'request prioritize': 20152,\n",
       " 'prioritize addressing': 18210,\n",
       " 'addressing grievance': 523,\n",
       " 'grievance inadequate': 9996,\n",
       " 'inadequate rest': 12017,\n",
       " 'rest stops': 20650,\n",
       " 'stops ensure': 23422,\n",
       " 'ensure safety': 7903,\n",
       " 'safety comfort': 21766,\n",
       " 'comfort convenience': 3764,\n",
       " 'convenience travelers': 5424,\n",
       " 'travelers like': 25272,\n",
       " 'like highways': 13973,\n",
       " 'highways adequate': 10802,\n",
       " 'adequate rest': 569,\n",
       " 'stops vital': 23489,\n",
       " 'vital positive': 26480,\n",
       " 'positive travel': 17769,\n",
       " 'travel eperience': 25202,\n",
       " 'humble request prioritize': 11324,\n",
       " 'request prioritize addressing': 20153,\n",
       " 'prioritize addressing grievance': 18211,\n",
       " 'addressing grievance inadequate': 525,\n",
       " 'grievance inadequate rest': 9997,\n",
       " 'inadequate rest stops': 12018,\n",
       " 'rest stops ensure': 20663,\n",
       " 'stops ensure safety': 23423,\n",
       " 'ensure safety comfort': 7904,\n",
       " 'safety comfort convenience': 21767,\n",
       " 'comfort convenience travelers': 3765,\n",
       " 'convenience travelers like': 5426,\n",
       " 'travelers like highways': 25273,\n",
       " 'like highways adequate': 13974,\n",
       " 'highways adequate rest': 10803,\n",
       " 'adequate rest stops': 570,\n",
       " 'rest stops vital': 20686,\n",
       " 'stops vital positive': 23492,\n",
       " 'vital positive travel': 26483,\n",
       " 'positive travel eperience': 17770,\n",
       " 'complaints': 4188,\n",
       " 'quality': 18931,\n",
       " 'ignored': 11389,\n",
       " 'complaints canals': 4189,\n",
       " 'overflow quality': 16562,\n",
       " 'quality water': 19003,\n",
       " 'water ignored': 26772,\n",
       " 'complaints canals overflow': 4190,\n",
       " 'canals overflow quality': 2725,\n",
       " 'overflow quality water': 16563,\n",
       " 'quality water ignored': 19005,\n",
       " 'area': 1485,\n",
       " 'become': 2128,\n",
       " 'increasingly': 12303,\n",
       " 'challenging': 3229,\n",
       " 'due': 7215,\n",
       " 'shortcomings': 22579,\n",
       " 'drainage': 7077,\n",
       " 'struggles': 23762,\n",
       " 'manage': 14714,\n",
       " 'resulting': 20749,\n",
       " 'recurrent': 19543,\n",
       " 'waterlogging': 27036,\n",
       " 'living area': 14217,\n",
       " 'area become': 1501,\n",
       " 'become increasingly': 2159,\n",
       " 'increasingly challenging': 12308,\n",
       " 'challenging due': 3240,\n",
       " 'due shortcomings': 7280,\n",
       " 'shortcomings drainage': 22580,\n",
       " 'drainage system': 7084,\n",
       " 'system struggles': 24218,\n",
       " 'struggles manage': 23767,\n",
       " 'manage rainwater': 14727,\n",
       " 'rainwater resulting': 19188,\n",
       " 'resulting recurrent': 20768,\n",
       " 'recurrent waterlogging': 19552,\n",
       " 'living area become': 14218,\n",
       " 'area become increasingly': 1502,\n",
       " 'become increasingly challenging': 2161,\n",
       " 'increasingly challenging due': 12309,\n",
       " 'challenging due shortcomings': 3243,\n",
       " 'due shortcomings drainage': 7281,\n",
       " 'shortcomings drainage system': 22581,\n",
       " 'drainage system struggles': 7110,\n",
       " 'system struggles manage': 24219,\n",
       " 'struggles manage rainwater': 23769,\n",
       " 'manage rainwater resulting': 14729,\n",
       " 'rainwater resulting recurrent': 19190,\n",
       " 'resulting recurrent waterlogging': 20769,\n",
       " 'little': 14091,\n",
       " 'annoying': 1311,\n",
       " 'downright': 7071,\n",
       " 'maddening': 14462,\n",
       " 'falling': 8791,\n",
       " 'apart': 1341,\n",
       " 'stress': 23701,\n",
       " 'everyone': 8526,\n",
       " 'little annoying': 14092,\n",
       " 'annoying downright': 1312,\n",
       " 'downright maddening': 7072,\n",
       " 'maddening roads': 14465,\n",
       " 'roads falling': 21386,\n",
       " 'falling apart': 8792,\n",
       " 'apart constant': 1344,\n",
       " 'source stress': 23116,\n",
       " 'stress frustration': 23712,\n",
       " 'frustration everyone': 9421,\n",
       " 'everyone neighborhood': 8536,\n",
       " 'little annoying downright': 14093,\n",
       " 'annoying downright maddening': 1313,\n",
       " 'downright maddening roads': 7073,\n",
       " 'maddening roads falling': 14466,\n",
       " 'roads falling apart': 21387,\n",
       " 'falling apart constant': 8793,\n",
       " 'apart constant source': 1345,\n",
       " 'constant source stress': 5238,\n",
       " 'source stress frustration': 23119,\n",
       " 'stress frustration everyone': 23713,\n",
       " 'frustration everyone neighborhood': 9422,\n",
       " 'near': 15478,\n",
       " 'canal': 2661,\n",
       " 'feels': 8946,\n",
       " 'gamble': 9555,\n",
       " 'every': 8509,\n",
       " 'time': 24643,\n",
       " 'risk': 20899,\n",
       " 'flooding': 9174,\n",
       " 'living near': 14239,\n",
       " 'near canal': 15481,\n",
       " 'canal feels': 2664,\n",
       " 'feels like': 8947,\n",
       " 'like gamble': 13965,\n",
       " 'gamble every': 9556,\n",
       " 'every time': 8519,\n",
       " 'time rains': 24684,\n",
       " 'rains risk': 19137,\n",
       " 'risk flooding': 20912,\n",
       " 'living near canal': 14241,\n",
       " 'near canal feels': 15483,\n",
       " 'canal feels like': 2665,\n",
       " 'feels like gamble': 8948,\n",
       " 'like gamble every': 13966,\n",
       " 'gamble every time': 9557,\n",
       " 'every time rains': 8521,\n",
       " 'time rains risk': 24688,\n",
       " 'rains risk flooding': 19138,\n",
       " 'communitys': 4005,\n",
       " 'stake': 23234,\n",
       " 'consistent': 5145,\n",
       " 'tap': 24360,\n",
       " 'appearing': 1392,\n",
       " 'visibly': 26403,\n",
       " 'unsafe': 25840,\n",
       " 'communitys wellbeing': 4044,\n",
       " 'wellbeing stake': 27208,\n",
       " 'stake due': 23235,\n",
       " 'due consistent': 7225,\n",
       " 'consistent problem': 5156,\n",
       " 'problem tap': 18332,\n",
       " 'tap water': 24381,\n",
       " 'water appearing': 26670,\n",
       " 'appearing visibly': 1395,\n",
       " 'visibly dirty': 26416,\n",
       " 'dirty unsafe': 6674,\n",
       " 'communitys wellbeing stake': 4045,\n",
       " 'wellbeing stake due': 27209,\n",
       " 'stake due consistent': 23236,\n",
       " 'due consistent problem': 7226,\n",
       " 'consistent problem tap': 5157,\n",
       " 'problem tap water': 18334,\n",
       " 'tap water appearing': 24384,\n",
       " 'water appearing visibly': 26671,\n",
       " 'appearing visibly dirty': 1397,\n",
       " 'visibly dirty unsafe': 26418,\n",
       " 'wish': 27417,\n",
       " 'bring': 2501,\n",
       " 'related': 19769,\n",
       " 'narmada': 15402,\n",
       " 'emphasizing': 7639,\n",
       " 'revitalization': 20824,\n",
       " 'protection': 18740,\n",
       " 'communities': 3863,\n",
       " 'wish bring': 27422,\n",
       " 'bring attention': 2502,\n",
       " 'pressing concerns': 18102,\n",
       " 'concerns related': 4787,\n",
       " 'related narmada': 19779,\n",
       " 'narmada river': 15403,\n",
       " 'river emphasizing': 21054,\n",
       " 'emphasizing importance': 7640,\n",
       " 'importance revitalization': 11846,\n",
       " 'revitalization protection': 20825,\n",
       " 'protection wellbeing': 18746,\n",
       " 'wellbeing communities': 27141,\n",
       " 'wish bring attention': 27423,\n",
       " 'bring attention pressing': 2517,\n",
       " 'attention pressing concerns': 1856,\n",
       " 'pressing concerns related': 18103,\n",
       " 'concerns related narmada': 4791,\n",
       " 'related narmada river': 19780,\n",
       " 'narmada river emphasizing': 15404,\n",
       " 'river emphasizing importance': 21055,\n",
       " 'emphasizing importance revitalization': 7643,\n",
       " 'importance revitalization protection': 11847,\n",
       " 'revitalization protection wellbeing': 20826,\n",
       " 'protection wellbeing communities': 18747,\n",
       " 'stagnant': 23196,\n",
       " 'breeding': 2482,\n",
       " 'ground': 10050,\n",
       " 'mosquitoes': 15297,\n",
       " 'eacerbating': 7313,\n",
       " 'stagnant water': 23221,\n",
       " 'pond breeding': 17569,\n",
       " 'breeding ground': 2485,\n",
       " 'ground mosquitoes': 10052,\n",
       " 'mosquitoes eacerbating': 15305,\n",
       " 'eacerbating problem': 7316,\n",
       " 'problem diseases': 18295,\n",
       " 'diseases neighborhood': 6824,\n",
       " 'stagnant water pond': 23223,\n",
       " 'water pond breeding': 26804,\n",
       " 'pond breeding ground': 17570,\n",
       " 'breeding ground mosquitoes': 2487,\n",
       " 'ground mosquitoes eacerbating': 10055,\n",
       " 'mosquitoes eacerbating problem': 15306,\n",
       " 'eacerbating problem diseases': 7317,\n",
       " 'problem diseases neighborhood': 18296,\n",
       " 'were': 27235,\n",
       " 'receiving': 19462,\n",
       " 'use': 26180,\n",
       " 'were receiving': 27290,\n",
       " 'receiving water': 19466,\n",
       " 'water thats': 26970,\n",
       " 'thats visibly': 24488,\n",
       " 'visibly unclean': 26443,\n",
       " 'unclean unfit': 25589,\n",
       " 'unfit use': 25747,\n",
       " 'were receiving water': 27291,\n",
       " 'receiving water thats': 19467,\n",
       " 'water thats visibly': 26971,\n",
       " 'thats visibly unclean': 24494,\n",
       " 'visibly unclean unfit': 26445,\n",
       " 'unclean unfit use': 25590,\n",
       " 'uncleanliness': 25610,\n",
       " 'nearby': 15552,\n",
       " 'lake': 13293,\n",
       " 'impacting': 11624,\n",
       " 'environment': 7971,\n",
       " 'uncleanliness nearby': 25616,\n",
       " 'nearby lake': 15553,\n",
       " 'lake become': 13299,\n",
       " 'become matter': 2173,\n",
       " 'concern community': 4358,\n",
       " 'community impacting': 3920,\n",
       " 'impacting environment': 11651,\n",
       " 'environment safety': 8002,\n",
       " 'uncleanliness nearby lake': 25617,\n",
       " 'nearby lake become': 15555,\n",
       " 'lake become matter': 13301,\n",
       " 'become matter concern': 2174,\n",
       " 'matter concern community': 14825,\n",
       " 'concern community impacting': 4360,\n",
       " 'community impacting environment': 3922,\n",
       " 'impacting environment safety': 11652,\n",
       " 'toll': 24824,\n",
       " 'rate': 19280,\n",
       " 'situation': 22806,\n",
       " 'real': 19389,\n",
       " 'pain': 16699,\n",
       " 'alone': 1037,\n",
       " 'feeling': 8932,\n",
       " 'way': 27075,\n",
       " 'tackle': 24245,\n",
       " 'headon': 10436,\n",
       " 'personally': 17061,\n",
       " 'ive': 13046,\n",
       " 'enough': 7816,\n",
       " 'dealing': 6012,\n",
       " 'toll rate': 24885,\n",
       " 'rate situation': 19316,\n",
       " 'situation real': 22860,\n",
       " 'real pain': 19401,\n",
       " 'pain im': 16700,\n",
       " 'im alone': 11403,\n",
       " 'alone feeling': 1038,\n",
       " 'feeling way': 8941,\n",
       " 'way please': 27080,\n",
       " 'please tackle': 17311,\n",
       " 'tackle issue': 24246,\n",
       " 'issue headon': 12836,\n",
       " 'headon personally': 10437,\n",
       " 'personally ive': 17073,\n",
       " 'ive enough': 13051,\n",
       " 'enough dealing': 7821,\n",
       " 'dealing problems': 6031,\n",
       " 'toll rate situation': 24895,\n",
       " 'rate situation real': 19317,\n",
       " 'situation real pain': 22861,\n",
       " 'real pain im': 19402,\n",
       " 'pain im alone': 16701,\n",
       " 'im alone feeling': 11404,\n",
       " 'alone feeling way': 1039,\n",
       " 'feeling way please': 8942,\n",
       " 'way please tackle': 27081,\n",
       " 'please tackle issue': 17312,\n",
       " 'tackle issue headon': 24247,\n",
       " 'issue headon personally': 12837,\n",
       " 'headon personally ive': 10438,\n",
       " 'personally ive enough': 17074,\n",
       " 'ive enough dealing': 13052,\n",
       " 'enough dealing problems': 7822,\n",
       " 'areas': 1637,\n",
       " 'task': 24410,\n",
       " 'regular': 19738,\n",
       " 'commutes': 4102,\n",
       " 'difficult': 6514,\n",
       " 'areas drainage': 1644,\n",
       " 'system task': 24221,\n",
       " 'task causing': 24411,\n",
       " 'causing regular': 3064,\n",
       " 'regular waterlogging': 19752,\n",
       " 'waterlogging making': 27052,\n",
       " 'making daily': 14629,\n",
       " 'daily commutes': 5783,\n",
       " 'commutes difficult': 4110,\n",
       " 'areas drainage system': 1645,\n",
       " 'drainage system task': 7111,\n",
       " 'system task causing': 24222,\n",
       " 'task causing regular': 24412,\n",
       " 'causing regular waterlogging': 3066,\n",
       " 'regular waterlogging making': 19754,\n",
       " 'waterlogging making daily': 27053,\n",
       " 'making daily commutes': 14632,\n",
       " 'daily commutes difficult': 5786,\n",
       " 'hello': 10607,\n",
       " 'submitting': 23811,\n",
       " 'shortage': 22537,\n",
       " 'find': 9091,\n",
       " 'solution': 22974,\n",
       " 'platform': 17179,\n",
       " 'hello im': 10613,\n",
       " 'im submitting': 11466,\n",
       " 'submitting grievance': 23812,\n",
       " 'grievance related': 10018,\n",
       " 'related water': 19796,\n",
       " 'water shortage': 26892,\n",
       " 'shortage issue': 22553,\n",
       " 'issue community': 12796,\n",
       " 'community hope': 3912,\n",
       " 'hope find': 11088,\n",
       " 'find solution': 9103,\n",
       " 'solution platform': 22987,\n",
       " 'hello im submitting': 10615,\n",
       " 'im submitting grievance': 11467,\n",
       " 'submitting grievance related': 23814,\n",
       " 'grievance related water': 10021,\n",
       " 'related water shortage': 19798,\n",
       " 'water shortage issue': 26897,\n",
       " 'shortage issue community': 22554,\n",
       " 'issue community hope': 12797,\n",
       " 'community hope find': 3913,\n",
       " 'hope find solution': 11089,\n",
       " 'find solution platform': 9106,\n",
       " 'harrowing': 10278,\n",
       " 'ordeal': 16424,\n",
       " 'navigating': 15458,\n",
       " 'treacherous': 25324,\n",
       " 'potholeridden': 17810,\n",
       " 'evolved': 8578,\n",
       " 'delays': 6216,\n",
       " 'severely': 22438,\n",
       " 'impinging': 11763,\n",
       " 'efficiency': 7513,\n",
       " 'routines': 21580,\n",
       " 'commitments': 3847,\n",
       " 'harrowing ordeal': 10281,\n",
       " 'ordeal navigating': 16431,\n",
       " 'navigating treacherous': 15476,\n",
       " 'treacherous potholeridden': 25327,\n",
       " 'potholeridden roads': 17813,\n",
       " 'roads evolved': 21382,\n",
       " 'evolved daily': 8579,\n",
       " 'daily source': 5874,\n",
       " 'stress delays': 23707,\n",
       " 'delays severely': 6244,\n",
       " 'severely impinging': 22441,\n",
       " 'impinging efficiency': 11764,\n",
       " 'efficiency daily': 7516,\n",
       " 'daily routines': 5859,\n",
       " 'routines commitments': 21587,\n",
       " 'harrowing ordeal navigating': 10282,\n",
       " 'ordeal navigating treacherous': 16432,\n",
       " 'navigating treacherous potholeridden': 15477,\n",
       " 'treacherous potholeridden roads': 25328,\n",
       " 'potholeridden roads evolved': 17817,\n",
       " 'roads evolved daily': 21383,\n",
       " 'evolved daily source': 8580,\n",
       " 'daily source stress': 5875,\n",
       " 'source stress delays': 23118,\n",
       " 'stress delays severely': 23709,\n",
       " 'delays severely impinging': 6245,\n",
       " 'severely impinging efficiency': 22442,\n",
       " 'impinging efficiency daily': 11765,\n",
       " 'efficiency daily routines': 7517,\n",
       " 'daily routines commitments': 5861,\n",
       " 'epress': 8191,\n",
       " 'deep': 6095,\n",
       " 'regarding': 19606,\n",
       " 'persistent': 16970,\n",
       " 'rainfall': 19064,\n",
       " 'directly': 6627,\n",
       " 'impacts': 11691,\n",
       " 'life': 13624,\n",
       " 'wish epress': 27432,\n",
       " 'epress deep': 8216,\n",
       " 'deep concern': 6096,\n",
       " 'concern regarding': 4483,\n",
       " 'regarding persistent': 19669,\n",
       " 'persistent overflow': 16999,\n",
       " 'overflow canal': 16544,\n",
       " 'canal rainfall': 2700,\n",
       " 'rainfall situation': 19090,\n",
       " 'situation directly': 22820,\n",
       " 'directly impacts': 6632,\n",
       " 'impacts life': 11712,\n",
       " 'life communitys': 13637,\n",
       " 'wish epress deep': 27436,\n",
       " 'epress deep concern': 8217,\n",
       " 'deep concern regarding': 6103,\n",
       " 'concern regarding persistent': 4497,\n",
       " 'regarding persistent overflow': 19671,\n",
       " 'persistent overflow canal': 17000,\n",
       " 'overflow canal rainfall': 16545,\n",
       " 'canal rainfall situation': 2703,\n",
       " 'rainfall situation directly': 19091,\n",
       " 'situation directly impacts': 22821,\n",
       " 'directly impacts life': 6635,\n",
       " 'impacts life communitys': 11713,\n",
       " 'life communitys wellbeing': 13638,\n",
       " 'interest': 12645,\n",
       " 'public': 18806,\n",
       " 'draw': 7138,\n",
       " 'demands': 6296,\n",
       " 'swift': 24086,\n",
       " 'improved': 11904,\n",
       " 'infrastructure': 12461,\n",
       " 'interest public': 12650,\n",
       " 'public safety': 18819,\n",
       " 'safety convenience': 21793,\n",
       " 'convenience wish': 5430,\n",
       " 'wish draw': 27427,\n",
       " 'draw attention': 7139,\n",
       " 'attention issue': 1832,\n",
       " 'issue inadequate': 12844,\n",
       " 'stops along': 23401,\n",
       " 'along highways': 1043,\n",
       " 'highways demands': 10810,\n",
       " 'demands swift': 6310,\n",
       " 'swift action': 24087,\n",
       " 'action improved': 298,\n",
       " 'improved infrastructure': 11907,\n",
       " 'infrastructure travelers': 12497,\n",
       " 'interest public safety': 12651,\n",
       " 'public safety convenience': 18821,\n",
       " 'safety convenience wish': 21803,\n",
       " 'convenience wish draw': 5431,\n",
       " 'wish draw attention': 27428,\n",
       " 'draw attention issue': 7143,\n",
       " 'attention issue inadequate': 1834,\n",
       " 'issue inadequate rest': 12846,\n",
       " 'rest stops along': 20654,\n",
       " 'stops along highways': 23402,\n",
       " 'along highways demands': 1045,\n",
       " 'highways demands swift': 10812,\n",
       " 'demands swift action': 6311,\n",
       " 'swift action improved': 24090,\n",
       " 'action improved infrastructure': 299,\n",
       " 'improved infrastructure travelers': 11913,\n",
       " 'trying': 25456,\n",
       " 'pest': 17093,\n",
       " 'booths': 2405,\n",
       " 'complete': 4205,\n",
       " 'disarray': 6701,\n",
       " 'id': 11372,\n",
       " 'someone': 23008,\n",
       " 'could': 5475,\n",
       " 'straighten': 23531,\n",
       " 'things': 24551,\n",
       " 'encountered': 7664,\n",
       " 'numerous': 16141,\n",
       " 'billing': 2384,\n",
       " 'discrepancies': 6790,\n",
       " 'im trying': 11474,\n",
       " 'trying pest': 25459,\n",
       " 'pest toll': 17094,\n",
       " 'toll booths': 24828,\n",
       " 'booths complete': 2408,\n",
       " 'complete disarray': 4206,\n",
       " 'disarray id': 6702,\n",
       " 'id appreciate': 11373,\n",
       " 'appreciate someone': 1424,\n",
       " 'someone could': 23013,\n",
       " 'could straighten': 5510,\n",
       " 'straighten things': 23532,\n",
       " 'things out': 24561,\n",
       " 'out ive': 16464,\n",
       " 'ive personally': 13067,\n",
       " 'personally encountered': 17067,\n",
       " 'encountered numerous': 7671,\n",
       " 'numerous issues': 16148,\n",
       " 'issues billing': 12962,\n",
       " 'billing discrepancies': 2385,\n",
       " 'im trying pest': 11475,\n",
       " 'trying pest toll': 25460,\n",
       " 'pest toll booths': 17095,\n",
       " 'toll booths complete': 24830,\n",
       " 'booths complete disarray': 2409,\n",
       " 'complete disarray id': 4207,\n",
       " 'disarray id appreciate': 6703,\n",
       " 'id appreciate someone': 11375,\n",
       " 'appreciate someone could': 1425,\n",
       " 'someone could straighten': 23015,\n",
       " 'could straighten things': 5511,\n",
       " 'straighten things out': 23533,\n",
       " 'things out ive': 24562,\n",
       " 'out ive personally': 16465,\n",
       " 'ive personally encountered': 13069,\n",
       " 'personally encountered numerous': 17068,\n",
       " 'encountered numerous issues': 7672,\n",
       " 'numerous issues billing': 16149,\n",
       " 'issues billing discrepancies': 12963,\n",
       " 'connections': 5020,\n",
       " 'chores': 3393,\n",
       " 'epansion': 8047,\n",
       " 'facilities': 8637,\n",
       " 'inadequate tap': 12026,\n",
       " 'tap connections': 24366,\n",
       " 'connections causing': 5028,\n",
       " 'causing delays': 2953,\n",
       " 'delays daily': 6230,\n",
       " 'daily chores': 5767,\n",
       " 'chores request': 3398,\n",
       " 'request epansion': 20115,\n",
       " 'epansion facilities': 8048,\n",
       " 'inadequate tap connections': 12027,\n",
       " 'tap connections causing': 24370,\n",
       " 'connections causing delays': 5029,\n",
       " 'causing delays daily': 2954,\n",
       " 'delays daily chores': 6231,\n",
       " 'daily chores request': 5770,\n",
       " 'chores request epansion': 3399,\n",
       " 'request epansion facilities': 20116,\n",
       " 'grievances': 10027,\n",
       " 'yamunas': 27839,\n",
       " 'pollution': 17462,\n",
       " 'stem': 23337,\n",
       " 'odor': 16201,\n",
       " 'poses': 17690,\n",
       " 'grievances regarding': 10032,\n",
       " 'regarding yamunas': 19706,\n",
       " 'yamunas pollution': 27841,\n",
       " 'pollution stem': 17543,\n",
       " 'stem odor': 23338,\n",
       " 'odor health': 16204,\n",
       " 'health concerns': 10454,\n",
       " 'concerns poses': 4769,\n",
       " 'grievances regarding yamunas': 10035,\n",
       " 'regarding yamunas pollution': 19707,\n",
       " 'yamunas pollution stem': 27850,\n",
       " 'pollution stem odor': 17544,\n",
       " 'stem odor health': 23339,\n",
       " 'odor health concerns': 16205,\n",
       " 'health concerns poses': 10457,\n",
       " 'collective': 3709,\n",
       " 'centers': 3123,\n",
       " 'around': 1664,\n",
       " 'preservation': 18078,\n",
       " 'urging': 26070,\n",
       " 'responsible': 20603,\n",
       " ...}"
      ]
     },
     "execution_count": 78,
     "metadata": {},
     "output_type": "execute_result"
    }
   ],
   "source": [
    "vectorizer.vocabulary_"
   ]
  },
  {
   "cell_type": "code",
   "execution_count": 113,
   "id": "1311eee1",
   "metadata": {},
   "outputs": [],
   "source": [
    "def predict():\n",
    "    message=input(\"enter your Grievance: \")\n",
    "    df=pd.DataFrame({'message':[message]})\n",
    "    df['message']=df['message'].apply(clean_text)\n",
    "    message=df['message']\n",
    "    message=vectorizer.transform(message)\n",
    "    y=classifier.predict(message)\n",
    "    #L=['Dept of road, transport and highways','Dept of Jal shakti']\n",
    "    return y[0]\n",
    "    #return y\n",
    "    "
   ]
  },
  {
   "cell_type": "code",
   "execution_count": 96,
   "id": "4e0a10eb",
   "metadata": {},
   "outputs": [
    {
     "name": "stdout",
     "output_type": "stream",
     "text": [
      "enter your Grievance: clean river ganga project is very slow, please clean the river asap\n"
     ]
    },
    {
     "data": {
      "text/plain": [
       "'Dept of Jal shakti'"
      ]
     },
     "execution_count": 96,
     "metadata": {},
     "output_type": "execute_result"
    }
   ],
   "source": [
    "predict()"
   ]
  },
  {
   "cell_type": "code",
   "execution_count": 114,
   "id": "3e5ec77e",
   "metadata": {},
   "outputs": [
    {
     "name": "stdout",
     "output_type": "stream",
     "text": [
      "enter your Grievance: the toll prices are very high, please reduce the toll prices\n"
     ]
    },
    {
     "data": {
      "text/plain": [
       "0"
      ]
     },
     "execution_count": 114,
     "metadata": {},
     "output_type": "execute_result"
    }
   ],
   "source": [
    "predict()"
   ]
  },
  {
   "cell_type": "code",
   "execution_count": 98,
   "id": "e4342476",
   "metadata": {},
   "outputs": [
    {
     "name": "stdout",
     "output_type": "stream",
     "text": [
      "enter your Grievance: there are too many potholes on the road, please fix these potholes asap\n"
     ]
    },
    {
     "data": {
      "text/plain": [
       "'Dept of road, transport and highways'"
      ]
     },
     "execution_count": 98,
     "metadata": {},
     "output_type": "execute_result"
    }
   ],
   "source": [
    "predict()"
   ]
  },
  {
   "cell_type": "code",
   "execution_count": 99,
   "id": "a26f4825",
   "metadata": {},
   "outputs": [
    {
     "name": "stdout",
     "output_type": "stream",
     "text": [
      "enter your Grievance: the area around water storage places is very unclean and untidy, please clean those areas\n"
     ]
    },
    {
     "data": {
      "text/plain": [
       "'Dept of Jal shakti'"
      ]
     },
     "execution_count": 99,
     "metadata": {},
     "output_type": "execute_result"
    }
   ],
   "source": [
    "predict()"
   ]
  },
  {
   "cell_type": "code",
   "execution_count": 100,
   "id": "594624f8",
   "metadata": {},
   "outputs": [
    {
     "name": "stdout",
     "output_type": "stream",
     "text": [
      "enter your Grievance: the toll prices are very high\n"
     ]
    },
    {
     "data": {
      "text/plain": [
       "'Dept of road, transport and highways'"
      ]
     },
     "execution_count": 100,
     "metadata": {},
     "output_type": "execute_result"
    }
   ],
   "source": [
    "predict()"
   ]
  },
  {
   "cell_type": "code",
   "execution_count": 101,
   "id": "bfbe86da",
   "metadata": {},
   "outputs": [
    {
     "name": "stdout",
     "output_type": "stream",
     "text": [
      "enter your Grievance: i was wrongfully charged , i did not break any traffic signals\n"
     ]
    },
    {
     "data": {
      "text/plain": [
       "'Dept of road, transport and highways'"
      ]
     },
     "execution_count": 101,
     "metadata": {},
     "output_type": "execute_result"
    }
   ],
   "source": [
    "predict()\n"
   ]
  },
  {
   "cell_type": "code",
   "execution_count": 102,
   "id": "03a33e1c",
   "metadata": {},
   "outputs": [
    {
     "name": "stdout",
     "output_type": "stream",
     "text": [
      "enter your Grievance: the water supply to my house is very less, my house requires more water supply\n"
     ]
    },
    {
     "data": {
      "text/plain": [
       "'Dept of Jal shakti'"
      ]
     },
     "execution_count": 102,
     "metadata": {},
     "output_type": "execute_result"
    }
   ],
   "source": [
    "predict()"
   ]
  },
  {
   "cell_type": "code",
   "execution_count": 103,
   "id": "89e336af",
   "metadata": {},
   "outputs": [
    {
     "name": "stdout",
     "output_type": "stream",
     "text": [
      "enter your Grievance: I hope you'll take our concerns about the missing street lights seriously. It's affecting our safety and quality of life.\n"
     ]
    },
    {
     "data": {
      "text/plain": [
       "'Dept of road, transport and highways'"
      ]
     },
     "execution_count": 103,
     "metadata": {},
     "output_type": "execute_result"
    }
   ],
   "source": [
    "predict()"
   ]
  },
  {
   "cell_type": "code",
   "execution_count": 104,
   "id": "df0b9646",
   "metadata": {
    "scrolled": true
   },
   "outputs": [
    {
     "data": {
      "text/html": [
       "<style>#sk-container-id-5 {color: black;background-color: white;}#sk-container-id-5 pre{padding: 0;}#sk-container-id-5 div.sk-toggleable {background-color: white;}#sk-container-id-5 label.sk-toggleable__label {cursor: pointer;display: block;width: 100%;margin-bottom: 0;padding: 0.3em;box-sizing: border-box;text-align: center;}#sk-container-id-5 label.sk-toggleable__label-arrow:before {content: \"▸\";float: left;margin-right: 0.25em;color: #696969;}#sk-container-id-5 label.sk-toggleable__label-arrow:hover:before {color: black;}#sk-container-id-5 div.sk-estimator:hover label.sk-toggleable__label-arrow:before {color: black;}#sk-container-id-5 div.sk-toggleable__content {max-height: 0;max-width: 0;overflow: hidden;text-align: left;background-color: #f0f8ff;}#sk-container-id-5 div.sk-toggleable__content pre {margin: 0.2em;color: black;border-radius: 0.25em;background-color: #f0f8ff;}#sk-container-id-5 input.sk-toggleable__control:checked~div.sk-toggleable__content {max-height: 200px;max-width: 100%;overflow: auto;}#sk-container-id-5 input.sk-toggleable__control:checked~label.sk-toggleable__label-arrow:before {content: \"▾\";}#sk-container-id-5 div.sk-estimator input.sk-toggleable__control:checked~label.sk-toggleable__label {background-color: #d4ebff;}#sk-container-id-5 div.sk-label input.sk-toggleable__control:checked~label.sk-toggleable__label {background-color: #d4ebff;}#sk-container-id-5 input.sk-hidden--visually {border: 0;clip: rect(1px 1px 1px 1px);clip: rect(1px, 1px, 1px, 1px);height: 1px;margin: -1px;overflow: hidden;padding: 0;position: absolute;width: 1px;}#sk-container-id-5 div.sk-estimator {font-family: monospace;background-color: #f0f8ff;border: 1px dotted black;border-radius: 0.25em;box-sizing: border-box;margin-bottom: 0.5em;}#sk-container-id-5 div.sk-estimator:hover {background-color: #d4ebff;}#sk-container-id-5 div.sk-parallel-item::after {content: \"\";width: 100%;border-bottom: 1px solid gray;flex-grow: 1;}#sk-container-id-5 div.sk-label:hover label.sk-toggleable__label {background-color: #d4ebff;}#sk-container-id-5 div.sk-serial::before {content: \"\";position: absolute;border-left: 1px solid gray;box-sizing: border-box;top: 0;bottom: 0;left: 50%;z-index: 0;}#sk-container-id-5 div.sk-serial {display: flex;flex-direction: column;align-items: center;background-color: white;padding-right: 0.2em;padding-left: 0.2em;position: relative;}#sk-container-id-5 div.sk-item {position: relative;z-index: 1;}#sk-container-id-5 div.sk-parallel {display: flex;align-items: stretch;justify-content: center;background-color: white;position: relative;}#sk-container-id-5 div.sk-item::before, #sk-container-id-5 div.sk-parallel-item::before {content: \"\";position: absolute;border-left: 1px solid gray;box-sizing: border-box;top: 0;bottom: 0;left: 50%;z-index: -1;}#sk-container-id-5 div.sk-parallel-item {display: flex;flex-direction: column;z-index: 1;position: relative;background-color: white;}#sk-container-id-5 div.sk-parallel-item:first-child::after {align-self: flex-end;width: 50%;}#sk-container-id-5 div.sk-parallel-item:last-child::after {align-self: flex-start;width: 50%;}#sk-container-id-5 div.sk-parallel-item:only-child::after {width: 0;}#sk-container-id-5 div.sk-dashed-wrapped {border: 1px dashed gray;margin: 0 0.4em 0.5em 0.4em;box-sizing: border-box;padding-bottom: 0.4em;background-color: white;}#sk-container-id-5 div.sk-label label {font-family: monospace;font-weight: bold;display: inline-block;line-height: 1.2em;}#sk-container-id-5 div.sk-label-container {text-align: center;}#sk-container-id-5 div.sk-container {/* jupyter's `normalize.less` sets `[hidden] { display: none; }` but bootstrap.min.css set `[hidden] { display: none !important; }` so we also need the `!important` here to be able to override the default hidden behavior on the sphinx rendered scikit-learn.org. See: https://github.com/scikit-learn/scikit-learn/issues/21755 */display: inline-block !important;position: relative;}#sk-container-id-5 div.sk-text-repr-fallback {display: none;}</style><div id=\"sk-container-id-5\" class=\"sk-top-container\"><div class=\"sk-text-repr-fallback\"><pre>MultinomialNB()</pre><b>In a Jupyter environment, please rerun this cell to show the HTML representation or trust the notebook. <br />On GitHub, the HTML representation is unable to render, please try loading this page with nbviewer.org.</b></div><div class=\"sk-container\" hidden><div class=\"sk-item\"><div class=\"sk-estimator sk-toggleable\"><input class=\"sk-toggleable__control sk-hidden--visually\" id=\"sk-estimator-id-5\" type=\"checkbox\" checked><label for=\"sk-estimator-id-5\" class=\"sk-toggleable__label sk-toggleable__label-arrow\">MultinomialNB</label><div class=\"sk-toggleable__content\"><pre>MultinomialNB()</pre></div></div></div></div></div>"
      ],
      "text/plain": [
       "MultinomialNB()"
      ]
     },
     "execution_count": 104,
     "metadata": {},
     "output_type": "execute_result"
    }
   ],
   "source": [
    "classifier"
   ]
  },
  {
   "cell_type": "code",
   "execution_count": 106,
   "id": "a4c7b288",
   "metadata": {},
   "outputs": [],
   "source": [
    "import pickle"
   ]
  },
  {
   "cell_type": "code",
   "execution_count": 107,
   "id": "27a6df86",
   "metadata": {},
   "outputs": [],
   "source": [
    "with open(\"dept_MODEL_NB.pkl\",'wb') as f:\n",
    "    pickle.dump(classifier,f)"
   ]
  },
  {
   "cell_type": "code",
   "execution_count": 108,
   "id": "00a30b17",
   "metadata": {},
   "outputs": [],
   "source": [
    "model=pickle.load(open(\"dept_MODEL_NB.pkl\",'rb'))"
   ]
  },
  {
   "cell_type": "code",
   "execution_count": 109,
   "id": "caf4e544",
   "metadata": {},
   "outputs": [
    {
     "data": {
      "text/html": [
       "<style>#sk-container-id-6 {color: black;background-color: white;}#sk-container-id-6 pre{padding: 0;}#sk-container-id-6 div.sk-toggleable {background-color: white;}#sk-container-id-6 label.sk-toggleable__label {cursor: pointer;display: block;width: 100%;margin-bottom: 0;padding: 0.3em;box-sizing: border-box;text-align: center;}#sk-container-id-6 label.sk-toggleable__label-arrow:before {content: \"▸\";float: left;margin-right: 0.25em;color: #696969;}#sk-container-id-6 label.sk-toggleable__label-arrow:hover:before {color: black;}#sk-container-id-6 div.sk-estimator:hover label.sk-toggleable__label-arrow:before {color: black;}#sk-container-id-6 div.sk-toggleable__content {max-height: 0;max-width: 0;overflow: hidden;text-align: left;background-color: #f0f8ff;}#sk-container-id-6 div.sk-toggleable__content pre {margin: 0.2em;color: black;border-radius: 0.25em;background-color: #f0f8ff;}#sk-container-id-6 input.sk-toggleable__control:checked~div.sk-toggleable__content {max-height: 200px;max-width: 100%;overflow: auto;}#sk-container-id-6 input.sk-toggleable__control:checked~label.sk-toggleable__label-arrow:before {content: \"▾\";}#sk-container-id-6 div.sk-estimator input.sk-toggleable__control:checked~label.sk-toggleable__label {background-color: #d4ebff;}#sk-container-id-6 div.sk-label input.sk-toggleable__control:checked~label.sk-toggleable__label {background-color: #d4ebff;}#sk-container-id-6 input.sk-hidden--visually {border: 0;clip: rect(1px 1px 1px 1px);clip: rect(1px, 1px, 1px, 1px);height: 1px;margin: -1px;overflow: hidden;padding: 0;position: absolute;width: 1px;}#sk-container-id-6 div.sk-estimator {font-family: monospace;background-color: #f0f8ff;border: 1px dotted black;border-radius: 0.25em;box-sizing: border-box;margin-bottom: 0.5em;}#sk-container-id-6 div.sk-estimator:hover {background-color: #d4ebff;}#sk-container-id-6 div.sk-parallel-item::after {content: \"\";width: 100%;border-bottom: 1px solid gray;flex-grow: 1;}#sk-container-id-6 div.sk-label:hover label.sk-toggleable__label {background-color: #d4ebff;}#sk-container-id-6 div.sk-serial::before {content: \"\";position: absolute;border-left: 1px solid gray;box-sizing: border-box;top: 0;bottom: 0;left: 50%;z-index: 0;}#sk-container-id-6 div.sk-serial {display: flex;flex-direction: column;align-items: center;background-color: white;padding-right: 0.2em;padding-left: 0.2em;position: relative;}#sk-container-id-6 div.sk-item {position: relative;z-index: 1;}#sk-container-id-6 div.sk-parallel {display: flex;align-items: stretch;justify-content: center;background-color: white;position: relative;}#sk-container-id-6 div.sk-item::before, #sk-container-id-6 div.sk-parallel-item::before {content: \"\";position: absolute;border-left: 1px solid gray;box-sizing: border-box;top: 0;bottom: 0;left: 50%;z-index: -1;}#sk-container-id-6 div.sk-parallel-item {display: flex;flex-direction: column;z-index: 1;position: relative;background-color: white;}#sk-container-id-6 div.sk-parallel-item:first-child::after {align-self: flex-end;width: 50%;}#sk-container-id-6 div.sk-parallel-item:last-child::after {align-self: flex-start;width: 50%;}#sk-container-id-6 div.sk-parallel-item:only-child::after {width: 0;}#sk-container-id-6 div.sk-dashed-wrapped {border: 1px dashed gray;margin: 0 0.4em 0.5em 0.4em;box-sizing: border-box;padding-bottom: 0.4em;background-color: white;}#sk-container-id-6 div.sk-label label {font-family: monospace;font-weight: bold;display: inline-block;line-height: 1.2em;}#sk-container-id-6 div.sk-label-container {text-align: center;}#sk-container-id-6 div.sk-container {/* jupyter's `normalize.less` sets `[hidden] { display: none; }` but bootstrap.min.css set `[hidden] { display: none !important; }` so we also need the `!important` here to be able to override the default hidden behavior on the sphinx rendered scikit-learn.org. See: https://github.com/scikit-learn/scikit-learn/issues/21755 */display: inline-block !important;position: relative;}#sk-container-id-6 div.sk-text-repr-fallback {display: none;}</style><div id=\"sk-container-id-6\" class=\"sk-top-container\"><div class=\"sk-text-repr-fallback\"><pre>MultinomialNB()</pre><b>In a Jupyter environment, please rerun this cell to show the HTML representation or trust the notebook. <br />On GitHub, the HTML representation is unable to render, please try loading this page with nbviewer.org.</b></div><div class=\"sk-container\" hidden><div class=\"sk-item\"><div class=\"sk-estimator sk-toggleable\"><input class=\"sk-toggleable__control sk-hidden--visually\" id=\"sk-estimator-id-6\" type=\"checkbox\" checked><label for=\"sk-estimator-id-6\" class=\"sk-toggleable__label sk-toggleable__label-arrow\">MultinomialNB</label><div class=\"sk-toggleable__content\"><pre>MultinomialNB()</pre></div></div></div></div></div>"
      ],
      "text/plain": [
       "MultinomialNB()"
      ]
     },
     "execution_count": 109,
     "metadata": {},
     "output_type": "execute_result"
    }
   ],
   "source": [
    "model"
   ]
  },
  {
   "cell_type": "code",
   "execution_count": 111,
   "id": "81c93aef",
   "metadata": {},
   "outputs": [
    {
     "data": {
      "text/html": [
       "<style>#sk-container-id-7 {color: black;background-color: white;}#sk-container-id-7 pre{padding: 0;}#sk-container-id-7 div.sk-toggleable {background-color: white;}#sk-container-id-7 label.sk-toggleable__label {cursor: pointer;display: block;width: 100%;margin-bottom: 0;padding: 0.3em;box-sizing: border-box;text-align: center;}#sk-container-id-7 label.sk-toggleable__label-arrow:before {content: \"▸\";float: left;margin-right: 0.25em;color: #696969;}#sk-container-id-7 label.sk-toggleable__label-arrow:hover:before {color: black;}#sk-container-id-7 div.sk-estimator:hover label.sk-toggleable__label-arrow:before {color: black;}#sk-container-id-7 div.sk-toggleable__content {max-height: 0;max-width: 0;overflow: hidden;text-align: left;background-color: #f0f8ff;}#sk-container-id-7 div.sk-toggleable__content pre {margin: 0.2em;color: black;border-radius: 0.25em;background-color: #f0f8ff;}#sk-container-id-7 input.sk-toggleable__control:checked~div.sk-toggleable__content {max-height: 200px;max-width: 100%;overflow: auto;}#sk-container-id-7 input.sk-toggleable__control:checked~label.sk-toggleable__label-arrow:before {content: \"▾\";}#sk-container-id-7 div.sk-estimator input.sk-toggleable__control:checked~label.sk-toggleable__label {background-color: #d4ebff;}#sk-container-id-7 div.sk-label input.sk-toggleable__control:checked~label.sk-toggleable__label {background-color: #d4ebff;}#sk-container-id-7 input.sk-hidden--visually {border: 0;clip: rect(1px 1px 1px 1px);clip: rect(1px, 1px, 1px, 1px);height: 1px;margin: -1px;overflow: hidden;padding: 0;position: absolute;width: 1px;}#sk-container-id-7 div.sk-estimator {font-family: monospace;background-color: #f0f8ff;border: 1px dotted black;border-radius: 0.25em;box-sizing: border-box;margin-bottom: 0.5em;}#sk-container-id-7 div.sk-estimator:hover {background-color: #d4ebff;}#sk-container-id-7 div.sk-parallel-item::after {content: \"\";width: 100%;border-bottom: 1px solid gray;flex-grow: 1;}#sk-container-id-7 div.sk-label:hover label.sk-toggleable__label {background-color: #d4ebff;}#sk-container-id-7 div.sk-serial::before {content: \"\";position: absolute;border-left: 1px solid gray;box-sizing: border-box;top: 0;bottom: 0;left: 50%;z-index: 0;}#sk-container-id-7 div.sk-serial {display: flex;flex-direction: column;align-items: center;background-color: white;padding-right: 0.2em;padding-left: 0.2em;position: relative;}#sk-container-id-7 div.sk-item {position: relative;z-index: 1;}#sk-container-id-7 div.sk-parallel {display: flex;align-items: stretch;justify-content: center;background-color: white;position: relative;}#sk-container-id-7 div.sk-item::before, #sk-container-id-7 div.sk-parallel-item::before {content: \"\";position: absolute;border-left: 1px solid gray;box-sizing: border-box;top: 0;bottom: 0;left: 50%;z-index: -1;}#sk-container-id-7 div.sk-parallel-item {display: flex;flex-direction: column;z-index: 1;position: relative;background-color: white;}#sk-container-id-7 div.sk-parallel-item:first-child::after {align-self: flex-end;width: 50%;}#sk-container-id-7 div.sk-parallel-item:last-child::after {align-self: flex-start;width: 50%;}#sk-container-id-7 div.sk-parallel-item:only-child::after {width: 0;}#sk-container-id-7 div.sk-dashed-wrapped {border: 1px dashed gray;margin: 0 0.4em 0.5em 0.4em;box-sizing: border-box;padding-bottom: 0.4em;background-color: white;}#sk-container-id-7 div.sk-label label {font-family: monospace;font-weight: bold;display: inline-block;line-height: 1.2em;}#sk-container-id-7 div.sk-label-container {text-align: center;}#sk-container-id-7 div.sk-container {/* jupyter's `normalize.less` sets `[hidden] { display: none; }` but bootstrap.min.css set `[hidden] { display: none !important; }` so we also need the `!important` here to be able to override the default hidden behavior on the sphinx rendered scikit-learn.org. See: https://github.com/scikit-learn/scikit-learn/issues/21755 */display: inline-block !important;position: relative;}#sk-container-id-7 div.sk-text-repr-fallback {display: none;}</style><div id=\"sk-container-id-7\" class=\"sk-top-container\"><div class=\"sk-text-repr-fallback\"><pre>CountVectorizer(ngram_range=(1, 3))</pre><b>In a Jupyter environment, please rerun this cell to show the HTML representation or trust the notebook. <br />On GitHub, the HTML representation is unable to render, please try loading this page with nbviewer.org.</b></div><div class=\"sk-container\" hidden><div class=\"sk-item\"><div class=\"sk-estimator sk-toggleable\"><input class=\"sk-toggleable__control sk-hidden--visually\" id=\"sk-estimator-id-7\" type=\"checkbox\" checked><label for=\"sk-estimator-id-7\" class=\"sk-toggleable__label sk-toggleable__label-arrow\">CountVectorizer</label><div class=\"sk-toggleable__content\"><pre>CountVectorizer(ngram_range=(1, 3))</pre></div></div></div></div></div>"
      ],
      "text/plain": [
       "CountVectorizer(ngram_range=(1, 3))"
      ]
     },
     "execution_count": 111,
     "metadata": {},
     "output_type": "execute_result"
    }
   ],
   "source": [
    "vectorizer"
   ]
  },
  {
   "cell_type": "code",
   "execution_count": 112,
   "id": "04071b54",
   "metadata": {},
   "outputs": [],
   "source": [
    "with open(\"vectorizer.pkl\",'wb') as file:\n",
    "    pickle.dump(vectorizer,file)"
   ]
  },
  {
   "cell_type": "code",
   "execution_count": null,
   "id": "33966776",
   "metadata": {},
   "outputs": [],
   "source": []
  }
 ],
 "metadata": {
  "kernelspec": {
   "display_name": "Python 3 (ipykernel)",
   "language": "python",
   "name": "python3"
  },
  "language_info": {
   "codemirror_mode": {
    "name": "ipython",
    "version": 3
   },
   "file_extension": ".py",
   "mimetype": "text/x-python",
   "name": "python",
   "nbconvert_exporter": "python",
   "pygments_lexer": "ipython3",
   "version": "3.11.1"
  }
 },
 "nbformat": 4,
 "nbformat_minor": 5
}
